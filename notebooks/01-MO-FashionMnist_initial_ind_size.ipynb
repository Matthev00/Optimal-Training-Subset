{
  "nbformat": 4,
  "nbformat_minor": 0,
  "metadata": {
    "colab": {
      "provenance": []
    },
    "kernelspec": {
      "name": "python3",
      "display_name": "Python 3"
    },
    "language_info": {
      "name": "python"
    }
  },
  "cells": [
    {
      "cell_type": "code",
      "source": [
        "import torch\n",
        "from torchvision import datasets, transforms\n",
        "from torch.utils.data import Dataset\n",
        "from typing import Optional\n",
        "\n",
        "DATASETS_DIR = \"data\"\n",
        "\n",
        "class GPUDataset(Dataset):\n",
        "    def __init__(self, dataset: Dataset, transform: Optional[transforms.Compose], device: str):\n",
        "        self.device = device\n",
        "        self.transform = transform\n",
        "\n",
        "        self.data = torch.empty((len(dataset), *transform(dataset[0][0]).shape), device=device)\n",
        "        self.targets = torch.empty(len(dataset), dtype=torch.long, device=device)\n",
        "\n",
        "        for i, (img, target) in enumerate(dataset):\n",
        "            self.data[i] = transform(img).to(device)\n",
        "            self.targets[i] = torch.tensor(target).to(device)\n",
        "\n",
        "    def __len__(self):\n",
        "        return len(self.data)\n",
        "\n",
        "    def __getitem__(self, idx):\n",
        "        return self.data[idx], self.targets[idx]\n",
        "\n",
        "\n",
        "def get_dataset(\n",
        "    dataset_name: str = \"FashionMNIST\", transform: Optional[transforms.Compose] = None\n",
        ") -> tuple[Dataset, Dataset]:\n",
        "    if dataset_name == \"FashionMNIST\":\n",
        "        train_dataset = datasets.FashionMNIST(root=DATASETS_DIR, train=True, download=True)\n",
        "        test_dataset = datasets.FashionMNIST(root=DATASETS_DIR, train=False, download=True)\n",
        "    elif dataset_name == \"CIFAR100\":\n",
        "        train_dataset = datasets.CIFAR100(\n",
        "            root=DATASETS_DIR, train=True, download=True, transform=transform\n",
        "        )\n",
        "        test_dataset = datasets.CIFAR100(\n",
        "            root=DATASETS_DIR, train=False, download=True, transform=transform\n",
        "        )\n",
        "\n",
        "    return train_dataset, test_dataset\n"
      ],
      "metadata": {
        "id": "vWl9vD34shhR"
      },
      "execution_count": null,
      "outputs": []
    },
    {
      "cell_type": "code",
      "execution_count": null,
      "metadata": {
        "colab": {
          "base_uri": "https://localhost:8080/"
        },
        "id": "oVNV-2tHsa9k",
        "outputId": "83dc7785-02cc-4e1f-bce4-6e61e492a516"
      },
      "outputs": [
        {
          "output_type": "stream",
          "name": "stdout",
          "text": [
            "Downloading http://fashion-mnist.s3-website.eu-central-1.amazonaws.com/train-images-idx3-ubyte.gz\n",
            "Downloading http://fashion-mnist.s3-website.eu-central-1.amazonaws.com/train-images-idx3-ubyte.gz to data/FashionMNIST/raw/train-images-idx3-ubyte.gz\n"
          ]
        },
        {
          "output_type": "stream",
          "name": "stderr",
          "text": [
            "100%|██████████| 26.4M/26.4M [00:01<00:00, 14.3MB/s]\n"
          ]
        },
        {
          "output_type": "stream",
          "name": "stdout",
          "text": [
            "Extracting data/FashionMNIST/raw/train-images-idx3-ubyte.gz to data/FashionMNIST/raw\n",
            "\n",
            "Downloading http://fashion-mnist.s3-website.eu-central-1.amazonaws.com/train-labels-idx1-ubyte.gz\n",
            "Downloading http://fashion-mnist.s3-website.eu-central-1.amazonaws.com/train-labels-idx1-ubyte.gz to data/FashionMNIST/raw/train-labels-idx1-ubyte.gz\n"
          ]
        },
        {
          "output_type": "stream",
          "name": "stderr",
          "text": [
            "100%|██████████| 29.5k/29.5k [00:00<00:00, 114kB/s]\n"
          ]
        },
        {
          "output_type": "stream",
          "name": "stdout",
          "text": [
            "Extracting data/FashionMNIST/raw/train-labels-idx1-ubyte.gz to data/FashionMNIST/raw\n",
            "\n",
            "Downloading http://fashion-mnist.s3-website.eu-central-1.amazonaws.com/t10k-images-idx3-ubyte.gz\n",
            "Downloading http://fashion-mnist.s3-website.eu-central-1.amazonaws.com/t10k-images-idx3-ubyte.gz to data/FashionMNIST/raw/t10k-images-idx3-ubyte.gz\n"
          ]
        },
        {
          "output_type": "stream",
          "name": "stderr",
          "text": [
            "100%|██████████| 4.42M/4.42M [00:01<00:00, 4.24MB/s]\n"
          ]
        },
        {
          "output_type": "stream",
          "name": "stdout",
          "text": [
            "Extracting data/FashionMNIST/raw/t10k-images-idx3-ubyte.gz to data/FashionMNIST/raw\n",
            "\n",
            "Downloading http://fashion-mnist.s3-website.eu-central-1.amazonaws.com/t10k-labels-idx1-ubyte.gz\n",
            "Downloading http://fashion-mnist.s3-website.eu-central-1.amazonaws.com/t10k-labels-idx1-ubyte.gz to data/FashionMNIST/raw/t10k-labels-idx1-ubyte.gz\n"
          ]
        },
        {
          "output_type": "stream",
          "name": "stderr",
          "text": [
            "100%|██████████| 5.15k/5.15k [00:00<00:00, 4.50MB/s]\n"
          ]
        },
        {
          "output_type": "stream",
          "name": "stdout",
          "text": [
            "Extracting data/FashionMNIST/raw/t10k-labels-idx1-ubyte.gz to data/FashionMNIST/raw\n",
            "\n",
            "Train dataloader: 1500\n",
            "Validation dataloader: 375\n",
            "Test dataloader: 313\n",
            "Subset dataloader: 16\n",
            "cpu\n",
            "cpu\n"
          ]
        }
      ],
      "source": [
        "import torch\n",
        "from torchvision import transforms\n",
        "from torchvision.models import MobileNet_V3_Small_Weights\n",
        "from torch.utils.data import DataLoader, Dataset, Subset, random_split\n",
        "import numpy as np\n",
        "from typing import Optional\n",
        "import os\n",
        "\n",
        "\n",
        "def get_dataloaders(\n",
        "    dataset_name: str = \"FashionMNIST\",\n",
        "    batch_size: int = 32,\n",
        "    val_split: float = 0.2,\n",
        "    seed: int = 42,\n",
        "    num_workers: int = 0,\n",
        "    transform: Optional[transforms.Compose] = None,\n",
        "    device: str = \"cuda\",\n",
        ") -> tuple[Dataset, DataLoader, DataLoader, DataLoader]:\n",
        "\n",
        "    torch.manual_seed(seed)\n",
        "\n",
        "    if dataset_name == \"FashionMNIST\":\n",
        "        train_dataset, test_dataset = get_dataset(dataset_name=dataset_name)\n",
        "        transform = transforms.Compose(\n",
        "            [\n",
        "                transforms.ToTensor(),\n",
        "                transforms.Normalize((0.5,), (0.5,)),\n",
        "            ]\n",
        "        )\n",
        "    elif dataset_name == \"CIFAR100\":\n",
        "        train_dataset, test_dataset = get_dataset(dataset_name=dataset_name, transform=transform)\n",
        "        weights = MobileNet_V3_Small_Weights.DEFAULT\n",
        "        transform = weights.transforms()\n",
        "    else:\n",
        "        raise ValueError(f\"Unknown dataset name: {dataset_name}\")\n",
        "\n",
        "    val_size = int(val_split * len(train_dataset))\n",
        "    train_size = len(train_dataset) - val_size\n",
        "    train_dataset, val_dataset = random_split(train_dataset, [train_size, val_size])\n",
        "\n",
        "    if dataset_name == \"FashionMNIST\":\n",
        "        train_dataset = GPUDataset(train_dataset, transform, device)\n",
        "        val_dataset = GPUDataset(val_dataset, transform, device)\n",
        "        test_dataset = GPUDataset(test_dataset, transform, device)\n",
        "\n",
        "    train_dataloader = DataLoader(\n",
        "        train_dataset, batch_size=batch_size, shuffle=False, num_workers=num_workers\n",
        "    )\n",
        "    val_dataloader = DataLoader(\n",
        "        val_dataset, batch_size=batch_size, shuffle=False, num_workers=num_workers\n",
        "    )\n",
        "    test_dataloader = DataLoader(\n",
        "        test_dataset, batch_size=batch_size, shuffle=False, num_workers=num_workers\n",
        "    )\n",
        "\n",
        "    return train_dataset, train_dataloader, val_dataloader, test_dataloader\n",
        "\n",
        "\n",
        "def get_subset_loader(\n",
        "    dataset: Dataset, mask: np.ndarray, batch_size: int = 32, num_workers: int = 0\n",
        ") -> DataLoader:\n",
        "    assert mask.dtype == bool, \"Mask must be a boolean array.\"\n",
        "    assert len(mask) == len(dataset), \"Mask and dataset must have the same length.\"\n",
        "    indices = np.where(mask)[0]\n",
        "    subset = Subset(dataset, indices)\n",
        "    return DataLoader(subset, batch_size=batch_size, shuffle=True, num_workers=num_workers)\n",
        "\n",
        "\n",
        "\n",
        "num_workers = 0\n",
        "device = torch.device(\"cuda\" if torch.cuda.is_available() else \"cpu\")\n",
        "dataset_name = \"FashionMNIST\"\n",
        "train_dataset, train_dataloader, val_dataloader, test_dataloader = get_dataloaders(\n",
        "    dataset_name=dataset_name,\n",
        "    num_workers=num_workers,\n",
        "    device=device,\n",
        ")\n",
        "\n",
        "total_samples = len(train_dataset)\n",
        "mask = np.zeros(total_samples, dtype=bool)\n",
        "mask[:500] = True\n",
        "\n",
        "subset_loader = get_subset_loader(train_dataset, mask, num_workers=num_workers)\n",
        "\n",
        "print(f\"Train dataloader: {len(train_dataloader)}\")\n",
        "print(f\"Validation dataloader: {len(val_dataloader)}\")\n",
        "print(f\"Test dataloader: {len(test_dataloader)}\")\n",
        "print(f\"Subset dataloader: {len(subset_loader)}\")\n",
        "\n",
        "if dataset_name == \"FashionMNIST\":\n",
        "    print(subset_loader.dataset.dataset.data.device)\n",
        "    print(subset_loader.dataset.dataset.targets.device)\n"
      ]
    },
    {
      "cell_type": "code",
      "source": [
        "from torch import optim\n",
        "from tqdm import tqdm\n",
        "import torch.nn as nn\n",
        "\n",
        "def train_model(\n",
        "    model: nn.Module,\n",
        "    train_loader: DataLoader,\n",
        "    num_epochs: int = 2,\n",
        "    learning_rate: float = 1e-3,\n",
        "):\n",
        "\n",
        "    criterion = nn.CrossEntropyLoss()\n",
        "    optimizer = optim.Adam(model.parameters(), lr=learning_rate)\n",
        "\n",
        "    for epoch in tqdm(range(num_epochs)):\n",
        "        model.train()\n",
        "        train_loss = 0\n",
        "        for images, labels in train_loader:\n",
        "\n",
        "            optimizer.zero_grad()\n",
        "            outputs = model(images)\n",
        "            loss = criterion(outputs, labels)\n",
        "            loss.backward()\n",
        "            optimizer.step()\n",
        "            train_loss += loss.item()\n",
        "\n",
        "\n",
        "def validate_model(model: nn.Module, val_loader: DataLoader):\n",
        "\n",
        "    model.eval()\n",
        "    val_loss = 0\n",
        "    correct = 0\n",
        "    total = 0\n",
        "\n",
        "    criterion = nn.CrossEntropyLoss()\n",
        "\n",
        "    with torch.inference_mode():\n",
        "        for images, labels in val_loader:\n",
        "            output = model(images)\n",
        "            loss = criterion(output, labels)\n",
        "            val_loss += loss.item()\n",
        "            _, predicted = torch.max(output.data, 1)\n",
        "            total += labels.size(0)\n",
        "            correct += (predicted == labels).sum().item()\n",
        "    accuracy = correct / total\n",
        "    correct\n",
        "    return val_loss, accuracy"
      ],
      "metadata": {
        "id": "0NMToE6nt2xO"
      },
      "execution_count": null,
      "outputs": []
    },
    {
      "cell_type": "code",
      "source": [
        "import torch.nn.functional as F\n",
        "\n",
        "class SimpleFCN(nn.Module):\n",
        "    def __init__(self):\n",
        "        super(SimpleFCN, self).__init__()\n",
        "        self.fc1 = nn.Linear(28 * 28, 128)\n",
        "        self.fc2 = nn.Linear(128, 64)\n",
        "        self.fc3 = nn.Linear(64, 10)\n",
        "\n",
        "    def forward(self, x):\n",
        "        x = x.view(x.size(0), -1)\n",
        "        x = F.relu(self.fc1(x))\n",
        "        x = F.relu(self.fc2(x))\n",
        "        x = self.fc3(x)\n",
        "        return x\n",
        "model = SimpleFCN()"
      ],
      "metadata": {
        "id": "u84TgmhV1FWl"
      },
      "execution_count": null,
      "outputs": []
    },
    {
      "cell_type": "code",
      "source": [
        "percentage = range(5, 101, 5)\n",
        "device = torch.device(\"cuda\" if torch.cuda.is_available() else \"cpu\")\n",
        "for i in percentage:\n",
        "    result = 0\n",
        "    acc = 0\n",
        "    for j in range(10):\n",
        "        subsample = int(len(train_dataset) * i / 100)\n",
        "        mask = np.zeros(len(train_dataset), dtype=bool)\n",
        "        random_indices = np.random.choice(len(train_dataset), subsample, replace=False)\n",
        "        mask[random_indices] = True\n",
        "\n",
        "        subset_loader = get_subset_loader(train_dataset, mask, num_workers=num_workers)\n",
        "        model = SimpleFCN().to(device)\n",
        "        train_model(model, subset_loader)\n",
        "        loss1, acc1 = validate_model(model, val_dataloader)\n",
        "        result += loss1\n",
        "        acc += acc1\n",
        "    print(f\"Percentage: {i} , loss={result/10} acc={acc/10}\")\n",
        "\n"
      ],
      "metadata": {
        "colab": {
          "base_uri": "https://localhost:8080/"
        },
        "id": "m0nx0e10scyK",
        "outputId": "3362b571-9eef-4fc2-bf2c-52e4396b021f"
      },
      "execution_count": null,
      "outputs": [
        {
          "output_type": "stream",
          "name": "stderr",
          "text": [
            "100%|██████████| 2/2 [00:00<00:00,  4.56it/s]\n",
            "100%|██████████| 2/2 [00:00<00:00,  5.88it/s]\n",
            "100%|██████████| 2/2 [00:00<00:00,  5.75it/s]\n",
            "100%|██████████| 2/2 [00:00<00:00,  5.79it/s]\n",
            "100%|██████████| 2/2 [00:00<00:00,  5.93it/s]\n",
            "100%|██████████| 2/2 [00:00<00:00,  5.42it/s]\n",
            "100%|██████████| 2/2 [00:00<00:00,  5.71it/s]\n",
            "100%|██████████| 2/2 [00:00<00:00,  5.78it/s]\n",
            "100%|██████████| 2/2 [00:00<00:00,  5.46it/s]\n",
            "100%|██████████| 2/2 [00:00<00:00,  5.90it/s]\n"
          ]
        },
        {
          "output_type": "stream",
          "name": "stdout",
          "text": [
            "Percentage: 5 , loss=234.2657291650772 acc=0.7690333333333332\n"
          ]
        },
        {
          "output_type": "stream",
          "name": "stderr",
          "text": [
            "100%|██████████| 2/2 [00:00<00:00,  2.02it/s]\n",
            "100%|██████████| 2/2 [00:01<00:00,  1.70it/s]\n",
            "100%|██████████| 2/2 [00:00<00:00,  2.71it/s]\n",
            "100%|██████████| 2/2 [00:00<00:00,  3.01it/s]\n",
            "100%|██████████| 2/2 [00:00<00:00,  2.83it/s]\n",
            "100%|██████████| 2/2 [00:00<00:00,  3.02it/s]\n",
            "100%|██████████| 2/2 [00:00<00:00,  3.06it/s]\n",
            "100%|██████████| 2/2 [00:00<00:00,  3.02it/s]\n",
            "100%|██████████| 2/2 [00:00<00:00,  2.99it/s]\n",
            "100%|██████████| 2/2 [00:00<00:00,  3.03it/s]\n"
          ]
        },
        {
          "output_type": "stream",
          "name": "stdout",
          "text": [
            "Percentage: 10 , loss=214.3893195167184 acc=0.7912416666666667\n"
          ]
        },
        {
          "output_type": "stream",
          "name": "stderr",
          "text": [
            "100%|██████████| 2/2 [00:01<00:00,  1.94it/s]\n",
            "100%|██████████| 2/2 [00:01<00:00,  1.95it/s]\n",
            "100%|██████████| 2/2 [00:01<00:00,  1.41it/s]\n",
            "100%|██████████| 2/2 [00:01<00:00,  1.81it/s]\n",
            "100%|██████████| 2/2 [00:00<00:00,  2.00it/s]\n",
            "100%|██████████| 2/2 [00:00<00:00,  2.06it/s]\n",
            "100%|██████████| 2/2 [00:01<00:00,  1.99it/s]\n",
            "100%|██████████| 2/2 [00:00<00:00,  2.00it/s]\n",
            "100%|██████████| 2/2 [00:00<00:00,  2.03it/s]\n",
            "100%|██████████| 2/2 [00:00<00:00,  2.03it/s]\n"
          ]
        },
        {
          "output_type": "stream",
          "name": "stdout",
          "text": [
            "Percentage: 15 , loss=190.65281866043807 acc=0.8166083333333335\n"
          ]
        },
        {
          "output_type": "stream",
          "name": "stderr",
          "text": [
            "100%|██████████| 2/2 [00:01<00:00,  1.41it/s]\n",
            "100%|██████████| 2/2 [00:01<00:00,  1.04it/s]\n",
            "100%|██████████| 2/2 [00:01<00:00,  1.49it/s]\n",
            "100%|██████████| 2/2 [00:01<00:00,  1.41it/s]\n",
            "100%|██████████| 2/2 [00:01<00:00,  1.50it/s]\n",
            "100%|██████████| 2/2 [00:01<00:00,  1.50it/s]\n",
            "100%|██████████| 2/2 [00:01<00:00,  1.53it/s]\n",
            "100%|██████████| 2/2 [00:01<00:00,  1.49it/s]\n",
            "100%|██████████| 2/2 [00:01<00:00,  1.06it/s]\n",
            "100%|██████████| 2/2 [00:01<00:00,  1.34it/s]\n"
          ]
        },
        {
          "output_type": "stream",
          "name": "stdout",
          "text": [
            "Percentage: 20 , loss=186.9966082006693 acc=0.8178000000000001\n"
          ]
        },
        {
          "output_type": "stream",
          "name": "stderr",
          "text": [
            "100%|██████████| 2/2 [00:01<00:00,  1.17it/s]\n",
            "100%|██████████| 2/2 [00:01<00:00,  1.17it/s]\n",
            "100%|██████████| 2/2 [00:01<00:00,  1.10it/s]\n",
            "100%|██████████| 2/2 [00:01<00:00,  1.17it/s]\n",
            "100%|██████████| 2/2 [00:02<00:00,  1.12s/it]\n",
            "100%|██████████| 2/2 [00:01<00:00,  1.12it/s]\n",
            "100%|██████████| 2/2 [00:01<00:00,  1.14it/s]\n",
            "100%|██████████| 2/2 [00:01<00:00,  1.16it/s]\n",
            "100%|██████████| 2/2 [00:01<00:00,  1.21it/s]\n",
            "100%|██████████| 2/2 [00:01<00:00,  1.02it/s]\n"
          ]
        },
        {
          "output_type": "stream",
          "name": "stdout",
          "text": [
            "Percentage: 25 , loss=176.4296816572547 acc=0.8295833333333332\n"
          ]
        },
        {
          "output_type": "stream",
          "name": "stderr",
          "text": [
            "100%|██████████| 2/2 [00:02<00:00,  1.44s/it]\n",
            "100%|██████████| 2/2 [00:02<00:00,  1.03s/it]\n",
            "100%|██████████| 2/2 [00:02<00:00,  1.01s/it]\n",
            "100%|██████████| 2/2 [00:02<00:00,  1.01s/it]\n",
            "100%|██████████| 2/2 [00:02<00:00,  1.02s/it]\n",
            "100%|██████████| 2/2 [00:02<00:00,  1.42s/it]\n",
            "100%|██████████| 2/2 [00:02<00:00,  1.15s/it]\n",
            "100%|██████████| 2/2 [00:02<00:00,  1.03s/it]\n",
            "100%|██████████| 2/2 [00:02<00:00,  1.01s/it]\n",
            "100%|██████████| 2/2 [00:02<00:00,  1.06s/it]\n"
          ]
        },
        {
          "output_type": "stream",
          "name": "stdout",
          "text": [
            "Percentage: 30 , loss=174.43146554231643 acc=0.8311249999999999\n"
          ]
        },
        {
          "output_type": "stream",
          "name": "stderr",
          "text": [
            "100%|██████████| 2/2 [00:03<00:00,  1.57s/it]\n",
            "100%|██████████| 2/2 [00:02<00:00,  1.20s/it]\n",
            "100%|██████████| 2/2 [00:02<00:00,  1.19s/it]\n",
            "100%|██████████| 2/2 [00:02<00:00,  1.16s/it]\n",
            "100%|██████████| 2/2 [00:03<00:00,  1.56s/it]\n",
            "100%|██████████| 2/2 [00:02<00:00,  1.27s/it]\n",
            "100%|██████████| 2/2 [00:02<00:00,  1.23s/it]\n",
            "100%|██████████| 2/2 [00:02<00:00,  1.18s/it]\n",
            "100%|██████████| 2/2 [00:02<00:00,  1.31s/it]\n",
            "100%|██████████| 2/2 [00:02<00:00,  1.44s/it]\n"
          ]
        },
        {
          "output_type": "stream",
          "name": "stdout",
          "text": [
            "Percentage: 35 , loss=171.3694272786379 acc=0.8361666666666666\n"
          ]
        },
        {
          "output_type": "stream",
          "name": "stderr",
          "text": [
            "100%|██████████| 2/2 [00:02<00:00,  1.40s/it]\n",
            "100%|██████████| 2/2 [00:02<00:00,  1.42s/it]\n",
            "100%|██████████| 2/2 [00:03<00:00,  1.52s/it]\n",
            "100%|██████████| 2/2 [00:03<00:00,  1.61s/it]\n",
            "100%|██████████| 2/2 [00:02<00:00,  1.37s/it]\n",
            "100%|██████████| 2/2 [00:02<00:00,  1.40s/it]\n",
            "100%|██████████| 2/2 [00:03<00:00,  1.59s/it]\n",
            "100%|██████████| 2/2 [00:03<00:00,  1.58s/it]\n",
            "100%|██████████| 2/2 [00:02<00:00,  1.43s/it]\n",
            "100%|██████████| 2/2 [00:02<00:00,  1.34s/it]\n"
          ]
        },
        {
          "output_type": "stream",
          "name": "stdout",
          "text": [
            "Percentage: 40 , loss=164.36263493523 acc=0.8428833333333333\n"
          ]
        },
        {
          "output_type": "stream",
          "name": "stderr",
          "text": [
            "100%|██████████| 2/2 [00:04<00:00,  2.01s/it]\n",
            "100%|██████████| 2/2 [00:03<00:00,  1.55s/it]\n",
            "100%|██████████| 2/2 [00:03<00:00,  1.57s/it]\n",
            "100%|██████████| 2/2 [00:03<00:00,  1.66s/it]\n",
            "100%|██████████| 2/2 [00:03<00:00,  1.85s/it]\n",
            "100%|██████████| 2/2 [00:03<00:00,  1.56s/it]\n",
            "100%|██████████| 2/2 [00:03<00:00,  1.57s/it]\n",
            "100%|██████████| 2/2 [00:03<00:00,  1.98s/it]\n",
            "100%|██████████| 2/2 [00:03<00:00,  1.55s/it]\n",
            "100%|██████████| 2/2 [00:03<00:00,  1.58s/it]\n"
          ]
        },
        {
          "output_type": "stream",
          "name": "stdout",
          "text": [
            "Percentage: 45 , loss=165.10329641774297 acc=0.84005\n"
          ]
        },
        {
          "output_type": "stream",
          "name": "stderr",
          "text": [
            "100%|██████████| 2/2 [00:04<00:00,  2.07s/it]\n",
            "100%|██████████| 2/2 [00:03<00:00,  1.86s/it]\n",
            "100%|██████████| 2/2 [00:03<00:00,  1.75s/it]\n",
            "100%|██████████| 2/2 [00:03<00:00,  1.82s/it]\n",
            "100%|██████████| 2/2 [00:04<00:00,  2.02s/it]\n",
            "100%|██████████| 2/2 [00:03<00:00,  1.76s/it]\n",
            "100%|██████████| 2/2 [00:03<00:00,  1.67s/it]\n",
            "100%|██████████| 2/2 [00:04<00:00,  2.15s/it]\n",
            "100%|██████████| 2/2 [00:03<00:00,  1.80s/it]\n",
            "100%|██████████| 2/2 [00:03<00:00,  1.75s/it]\n"
          ]
        },
        {
          "output_type": "stream",
          "name": "stdout",
          "text": [
            "Percentage: 50 , loss=157.77378578707575 acc=0.8467166666666668\n"
          ]
        },
        {
          "output_type": "stream",
          "name": "stderr",
          "text": [
            "100%|██████████| 2/2 [00:04<00:00,  2.34s/it]\n",
            "100%|██████████| 2/2 [00:03<00:00,  1.94s/it]\n",
            "100%|██████████| 2/2 [00:03<00:00,  1.90s/it]\n",
            "100%|██████████| 2/2 [00:04<00:00,  2.24s/it]\n",
            "100%|██████████| 2/2 [00:03<00:00,  1.90s/it]\n",
            "100%|██████████| 2/2 [00:04<00:00,  2.11s/it]\n",
            "100%|██████████| 2/2 [00:04<00:00,  2.09s/it]\n",
            "100%|██████████| 2/2 [00:04<00:00,  2.09s/it]\n",
            "100%|██████████| 2/2 [00:04<00:00,  2.19s/it]\n",
            "100%|██████████| 2/2 [00:03<00:00,  2.00s/it]\n"
          ]
        },
        {
          "output_type": "stream",
          "name": "stdout",
          "text": [
            "Percentage: 55 , loss=159.19190081655978 acc=0.8457250000000001\n"
          ]
        },
        {
          "output_type": "stream",
          "name": "stderr",
          "text": [
            "100%|██████████| 2/2 [00:04<00:00,  2.13s/it]\n",
            "100%|██████████| 2/2 [00:04<00:00,  2.43s/it]\n",
            "100%|██████████| 2/2 [00:04<00:00,  2.03s/it]\n",
            "100%|██████████| 2/2 [00:04<00:00,  2.14s/it]\n",
            "100%|██████████| 2/2 [00:04<00:00,  2.45s/it]\n",
            "100%|██████████| 2/2 [00:04<00:00,  2.14s/it]\n",
            "100%|██████████| 2/2 [00:04<00:00,  2.48s/it]\n",
            "100%|██████████| 2/2 [00:04<00:00,  2.19s/it]\n",
            "100%|██████████| 2/2 [00:04<00:00,  2.04s/it]\n",
            "100%|██████████| 2/2 [00:05<00:00,  2.57s/it]\n"
          ]
        },
        {
          "output_type": "stream",
          "name": "stdout",
          "text": [
            "Percentage: 60 , loss=156.68749888017774 acc=0.8488666666666667\n"
          ]
        },
        {
          "output_type": "stream",
          "name": "stderr",
          "text": [
            "100%|██████████| 2/2 [00:04<00:00,  2.27s/it]\n",
            "100%|██████████| 2/2 [00:05<00:00,  2.55s/it]\n",
            "100%|██████████| 2/2 [00:04<00:00,  2.41s/it]\n",
            "100%|██████████| 2/2 [00:04<00:00,  2.30s/it]\n",
            "100%|██████████| 2/2 [00:05<00:00,  2.62s/it]\n",
            "100%|██████████| 2/2 [00:04<00:00,  2.29s/it]\n",
            "100%|██████████| 2/2 [00:05<00:00,  2.54s/it]\n",
            "100%|██████████| 2/2 [00:04<00:00,  2.29s/it]\n",
            "100%|██████████| 2/2 [00:04<00:00,  2.31s/it]\n",
            "100%|██████████| 2/2 [00:05<00:00,  2.75s/it]\n"
          ]
        },
        {
          "output_type": "stream",
          "name": "stdout",
          "text": [
            "Percentage: 65 , loss=154.44005222022534 acc=0.8515499999999999\n"
          ]
        },
        {
          "output_type": "stream",
          "name": "stderr",
          "text": [
            "100%|██████████| 2/2 [00:05<00:00,  2.52s/it]\n",
            "100%|██████████| 2/2 [00:05<00:00,  2.85s/it]\n",
            "100%|██████████| 2/2 [00:05<00:00,  2.55s/it]\n",
            "100%|██████████| 2/2 [00:05<00:00,  2.97s/it]\n",
            "100%|██████████| 2/2 [00:04<00:00,  2.41s/it]\n",
            "100%|██████████| 2/2 [00:05<00:00,  2.53s/it]\n",
            "100%|██████████| 2/2 [00:05<00:00,  2.67s/it]\n",
            "100%|██████████| 2/2 [00:05<00:00,  2.52s/it]\n",
            "100%|██████████| 2/2 [00:05<00:00,  2.82s/it]\n",
            "100%|██████████| 2/2 [00:04<00:00,  2.47s/it]\n"
          ]
        },
        {
          "output_type": "stream",
          "name": "stdout",
          "text": [
            "Percentage: 70 , loss=151.2595176719129 acc=0.8534666666666666\n"
          ]
        },
        {
          "output_type": "stream",
          "name": "stderr",
          "text": [
            "100%|██████████| 2/2 [00:06<00:00,  3.00s/it]\n",
            "100%|██████████| 2/2 [00:05<00:00,  2.56s/it]\n",
            "100%|██████████| 2/2 [00:06<00:00,  3.07s/it]\n",
            "100%|██████████| 2/2 [00:05<00:00,  2.66s/it]\n",
            "100%|██████████| 2/2 [00:05<00:00,  2.83s/it]\n",
            "100%|██████████| 2/2 [00:05<00:00,  2.64s/it]\n",
            "100%|██████████| 2/2 [00:05<00:00,  2.74s/it]\n",
            "100%|██████████| 2/2 [00:05<00:00,  2.80s/it]\n",
            "100%|██████████| 2/2 [00:05<00:00,  2.63s/it]\n",
            "100%|██████████| 2/2 [00:06<00:00,  3.05s/it]\n"
          ]
        },
        {
          "output_type": "stream",
          "name": "stdout",
          "text": [
            "Percentage: 75 , loss=153.90307120382786 acc=0.8513749999999998\n"
          ]
        },
        {
          "output_type": "stream",
          "name": "stderr",
          "text": [
            "100%|██████████| 2/2 [00:05<00:00,  2.75s/it]\n",
            "100%|██████████| 2/2 [00:06<00:00,  3.25s/it]\n",
            "100%|██████████| 2/2 [00:05<00:00,  2.83s/it]\n",
            "100%|██████████| 2/2 [00:06<00:00,  3.29s/it]\n",
            "100%|██████████| 2/2 [00:05<00:00,  2.80s/it]\n",
            "100%|██████████| 2/2 [00:06<00:00,  3.22s/it]\n",
            "100%|██████████| 2/2 [00:05<00:00,  2.75s/it]\n",
            "100%|██████████| 2/2 [00:06<00:00,  3.32s/it]\n",
            "100%|██████████| 2/2 [00:05<00:00,  2.81s/it]\n",
            "100%|██████████| 2/2 [00:06<00:00,  3.18s/it]\n"
          ]
        },
        {
          "output_type": "stream",
          "name": "stdout",
          "text": [
            "Percentage: 80 , loss=149.41098198443652 acc=0.8557083333333333\n"
          ]
        },
        {
          "output_type": "stream",
          "name": "stderr",
          "text": [
            "100%|██████████| 2/2 [00:06<00:00,  3.04s/it]\n",
            "100%|██████████| 2/2 [00:07<00:00,  3.50s/it]\n",
            "100%|██████████| 2/2 [00:06<00:00,  3.21s/it]\n",
            "100%|██████████| 2/2 [00:06<00:00,  3.25s/it]\n",
            "100%|██████████| 2/2 [00:06<00:00,  3.37s/it]\n",
            "100%|██████████| 2/2 [00:06<00:00,  3.08s/it]\n",
            "100%|██████████| 2/2 [00:06<00:00,  3.33s/it]\n",
            "100%|██████████| 2/2 [00:06<00:00,  3.05s/it]\n",
            "100%|██████████| 2/2 [00:06<00:00,  3.36s/it]\n",
            "100%|██████████| 2/2 [00:06<00:00,  3.16s/it]\n"
          ]
        },
        {
          "output_type": "stream",
          "name": "stdout",
          "text": [
            "Percentage: 85 , loss=144.88574964031577 acc=0.8605833333333333\n"
          ]
        },
        {
          "output_type": "stream",
          "name": "stderr",
          "text": [
            "100%|██████████| 2/2 [00:06<00:00,  3.49s/it]\n",
            "100%|██████████| 2/2 [00:06<00:00,  3.11s/it]\n",
            "100%|██████████| 2/2 [00:07<00:00,  3.57s/it]\n",
            "100%|██████████| 2/2 [00:06<00:00,  3.47s/it]\n",
            "100%|██████████| 2/2 [00:06<00:00,  3.44s/it]\n",
            "100%|██████████| 2/2 [00:07<00:00,  3.66s/it]\n",
            "100%|██████████| 2/2 [00:06<00:00,  3.17s/it]\n",
            "100%|██████████| 2/2 [00:07<00:00,  3.55s/it]\n",
            "100%|██████████| 2/2 [00:06<00:00,  3.18s/it]\n",
            "100%|██████████| 2/2 [00:07<00:00,  3.64s/it]\n"
          ]
        },
        {
          "output_type": "stream",
          "name": "stdout",
          "text": [
            "Percentage: 90 , loss=147.3020055092871 acc=0.8577666666666668\n"
          ]
        },
        {
          "output_type": "stream",
          "name": "stderr",
          "text": [
            "100%|██████████| 2/2 [00:07<00:00,  3.53s/it]\n",
            "100%|██████████| 2/2 [00:07<00:00,  3.55s/it]\n",
            "100%|██████████| 2/2 [00:07<00:00,  3.80s/it]\n",
            "100%|██████████| 2/2 [00:06<00:00,  3.38s/it]\n",
            "100%|██████████| 2/2 [00:07<00:00,  3.67s/it]\n",
            "100%|██████████| 2/2 [00:06<00:00,  3.27s/it]\n",
            "100%|██████████| 2/2 [00:07<00:00,  3.85s/it]\n",
            "100%|██████████| 2/2 [00:07<00:00,  3.67s/it]\n",
            "100%|██████████| 2/2 [00:06<00:00,  3.30s/it]\n",
            "100%|██████████| 2/2 [00:07<00:00,  3.78s/it]\n"
          ]
        },
        {
          "output_type": "stream",
          "name": "stdout",
          "text": [
            "Percentage: 95 , loss=146.0119609594345 acc=0.8582583333333333\n"
          ]
        },
        {
          "output_type": "stream",
          "name": "stderr",
          "text": [
            "100%|██████████| 2/2 [00:07<00:00,  3.63s/it]\n",
            "100%|██████████| 2/2 [00:07<00:00,  3.89s/it]\n",
            "100%|██████████| 2/2 [00:08<00:00,  4.05s/it]\n",
            "100%|██████████| 2/2 [00:06<00:00,  3.49s/it]\n",
            "100%|██████████| 2/2 [00:08<00:00,  4.09s/it]\n",
            "100%|██████████| 2/2 [00:07<00:00,  3.90s/it]\n",
            "100%|██████████| 2/2 [00:07<00:00,  3.53s/it]\n",
            "100%|██████████| 2/2 [00:08<00:00,  4.04s/it]\n",
            "100%|██████████| 2/2 [00:07<00:00,  3.75s/it]\n",
            "100%|██████████| 2/2 [00:07<00:00,  3.82s/it]\n"
          ]
        },
        {
          "output_type": "stream",
          "name": "stdout",
          "text": [
            "Percentage: 100 , loss=144.7901761163026 acc=0.8595416666666666\n"
          ]
        }
      ]
    },
    {
      "cell_type": "code",
      "source": [
        "model = SimpleFCN().to(device)\n",
        "subsample = int(len(train_dataset) * 1 / 100)\n",
        "mask = np.zeros(len(train_dataset), dtype=bool)\n",
        "random_indices = np.random.choice(len(train_dataset), subsample, replace=False)\n",
        "mask[random_indices] = True\n",
        "\n",
        "subset_loader = get_subset_loader(train_dataset, mask, num_workers=num_workers)\n",
        "train_model(model, subset_loader)\n",
        "loss, acc = validate_model(model, val_dataloader)\n",
        "print(f\"loss={loss} acc={acc}\")\n",
        "\n"
      ],
      "metadata": {
        "colab": {
          "base_uri": "https://localhost:8080/"
        },
        "id": "z34AdDlnHhdS",
        "outputId": "f7e4ee08-a786-4e92-8af6-bfd098603d38"
      },
      "execution_count": null,
      "outputs": [
        {
          "output_type": "stream",
          "name": "stderr",
          "text": [
            "100%|██████████| 2/2 [00:00<00:00, 23.88it/s]\n"
          ]
        },
        {
          "output_type": "stream",
          "name": "stdout",
          "text": [
            "loss=346.98670893907547 acc=0.6820833333333334\n"
          ]
        }
      ]
    },
    {
      "cell_type": "code",
      "source": [],
      "metadata": {
        "id": "ZqQuX_z1Hs6g"
      },
      "execution_count": null,
      "outputs": []
    }
  ]
}