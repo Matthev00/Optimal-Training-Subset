{
  "nbformat": 4,
  "nbformat_minor": 0,
  "metadata": {
    "colab": {
      "provenance": [],
      "gpuType": "T4"
    },
    "kernelspec": {
      "name": "python3",
      "display_name": "Python 3"
    },
    "language_info": {
      "name": "python"
    },
    "accelerator": "GPU"
  },
  "cells": [
    {
      "cell_type": "code",
      "source": [
        "import torch\n",
        "from torchvision import datasets, transforms\n",
        "from torch.utils.data import Dataset, DataLoader\n",
        "from typing import Optional\n",
        "\n",
        "DATASETS_DIR = \"./datasets\"\n",
        "class GPUDataset(Dataset):\n",
        "    def __init__(self, dataset: Dataset, transform: Optional[transforms.Compose], device: str):\n",
        "        self.device = device\n",
        "        self.transform = transform\n",
        "        shape = transform(dataset[0][0]).shape\n",
        "\n",
        "        self.data = torch.empty((len(dataset), *transform(dataset[0][0]).shape), device=device)\n",
        "        self.targets = torch.empty(len(dataset), dtype=torch.long, device=device)\n",
        "\n",
        "        for i, (img, target) in enumerate(dataset):\n",
        "            self.data[i] = transform(img).to(device)\n",
        "            self.targets[i] = torch.tensor(target).to(device)\n",
        "\n",
        "    def __len__(self):\n",
        "        return len(self.data)\n",
        "\n",
        "    def __getitem__(self, idx):\n",
        "        return self.data[idx], self.targets[idx]\n",
        "\n",
        "\n",
        "def get_dataset(dataset_name: str = \"FashionMNIST\") -> tuple[Dataset, Dataset]:\n",
        "    if dataset_name == \"FashionMNIST\":\n",
        "        train_dataset = datasets.FashionMNIST(root=DATASETS_DIR, train=True, download=True)\n",
        "        test_dataset = datasets.FashionMNIST(root=DATASETS_DIR, train=False, download=True)\n",
        "    elif dataset_name == \"CIFAR10\":\n",
        "        train_dataset = datasets.CIFAR10(root=DATASETS_DIR, train=True, download=True)\n",
        "        test_dataset = datasets.CIFAR10(root=DATASETS_DIR, train=False, download=True)\n",
        "\n",
        "    return train_dataset, test_dataset\n"
      ],
      "metadata": {
        "id": "ucjFKHdAhUHx"
      },
      "execution_count": 1,
      "outputs": []
    },
    {
      "cell_type": "code",
      "source": [
        "import torch\n",
        "from torchvision import transforms\n",
        "from torch.utils.data import DataLoader, Dataset, Subset, random_split\n",
        "import numpy as np\n",
        "\n",
        "\n",
        "def get_dataloaders(\n",
        "    dataset_name: str = \"FashionMNIST\",\n",
        "    batch_size: int = 32,\n",
        "    val_split: float = 0.2,\n",
        "    seed: int = 42,\n",
        "    num_workers: int = 0,\n",
        "    device: str = \"cuda\",\n",
        ") -> tuple[Dataset, DataLoader, DataLoader, DataLoader]:\n",
        "\n",
        "    torch.manual_seed(seed)\n",
        "\n",
        "    if dataset_name == \"FashionMNIST\":\n",
        "        train_dataset, test_dataset = get_dataset(dataset_name=dataset_name)\n",
        "        transform = transforms.Compose(\n",
        "            [\n",
        "                transforms.ToTensor(),\n",
        "                transforms.Normalize((0.5,), (0.5,)),\n",
        "            ]\n",
        "        )\n",
        "    elif dataset_name == \"CIFAR10\":\n",
        "        (0.5, 0.5, 0.5)\n",
        "        transform = transforms.Compose(\n",
        "            [\n",
        "                transforms.ToTensor(),\n",
        "                transforms.Normalize((0.5, 0.5, 0.5), (0.5, 0.5, 0.5)),\n",
        "            ]\n",
        "        )\n",
        "        train_dataset, test_dataset = get_dataset(dataset_name=dataset_name)\n",
        "    else:\n",
        "        raise ValueError(f\"Unknown dataset name: {dataset_name}\")\n",
        "\n",
        "    val_size = int(val_split * len(train_dataset))\n",
        "    train_size = len(train_dataset) - val_size\n",
        "    train_dataset, val_dataset = random_split(train_dataset, [train_size, val_size])\n",
        "\n",
        "    train_dataset = GPUDataset(train_dataset, transform, device)\n",
        "    val_dataset = GPUDataset(val_dataset, transform, device)\n",
        "    test_dataset = GPUDataset(test_dataset, transform, device)\n",
        "\n",
        "    train_dataloader = DataLoader(\n",
        "        train_dataset, batch_size=batch_size, shuffle=False, num_workers=num_workers\n",
        "    )\n",
        "    val_dataloader = DataLoader(\n",
        "        val_dataset, batch_size=batch_size, shuffle=False, num_workers=num_workers\n",
        "    )\n",
        "    test_dataloader = DataLoader(\n",
        "        test_dataset, batch_size=batch_size, shuffle=False, num_workers=num_workers\n",
        "    )\n",
        "\n",
        "    return train_dataset, train_dataloader, val_dataloader, test_dataloader\n",
        "\n",
        "\n",
        "def get_subset_loader(\n",
        "    dataset: Dataset, mask: np.ndarray, batch_size: int = 32, num_workers: int = 0\n",
        ") -> DataLoader:\n",
        "    assert mask.dtype == bool, \"Mask must be a boolean array.\"\n",
        "    assert len(mask) == len(dataset), \"Mask and dataset must have the same length.\"\n",
        "    indices = np.where(mask)[0]\n",
        "    subset = Subset(dataset, indices)\n",
        "    return DataLoader(subset, batch_size=batch_size, shuffle=True, num_workers=num_workers)"
      ],
      "metadata": {
        "id": "rFKXid53hc48"
      },
      "execution_count": 2,
      "outputs": []
    },
    {
      "cell_type": "code",
      "execution_count": 12,
      "metadata": {
        "id": "ILqx7Wutf7Sl"
      },
      "outputs": [],
      "source": [
        "from torch import optim\n",
        "from tqdm import tqdm\n",
        "import torch.nn as nn\n",
        "import torch\n",
        "from torch.utils.data import DataLoader, Dataset\n",
        "from sklearn.metrics import balanced_accuracy_score, confusion_matrix\n",
        "import numpy as np\n",
        "BATCHES = 150\n",
        "\n",
        "\n",
        "\n",
        "def train_model(\n",
        "    model: nn.Module,\n",
        "    train_loader: DataLoader,\n",
        "    target_iterations: int = 2,\n",
        "    learning_rate: float = 1e-3,\n",
        "    device: torch.device = torch.device(\"cuda\"),\n",
        ") -> None:\n",
        "    \"\"\"\n",
        "    Trains the given neural network model on the provided dataset, balancing\n",
        "    the number of epochs and iterations to ensure fair training across datasets\n",
        "    of different sizes.\n",
        "\n",
        "    Args:\n",
        "        model (nn.Module): The neural network model to train.\n",
        "        train_loader (DataLoader): DataLoader providing the training dataset.\n",
        "        target_iterations (int, optional): Target number of training iterations.\n",
        "            Default is 1000.\n",
        "        learning_rate (float, optional): Learning rate for the optimizer. Default is 1e-3.\n",
        "        device (torch.device, optional): Device for training (default is CUDA if available).\n",
        "\n",
        "    Returns:\n",
        "        None\n",
        "    \"\"\"\n",
        "    NUM_BATCHES = BATCHES * target_iterations\n",
        "    criterion = nn.CrossEntropyLoss()\n",
        "    optimizer = optim.Adam(model.parameters(), lr=learning_rate)\n",
        "    device = torch.device(\"cuda\") if torch.cuda.is_available() else \"cpu\"\n",
        "\n",
        "    model.train()\n",
        "    model.to(device)\n",
        "\n",
        "    train_iter = iter(train_loader)\n",
        "\n",
        "    batch_count = 0\n",
        "    with tqdm(total=NUM_BATCHES, desc=\"Training Progress\") as pbar:\n",
        "        while batch_count < NUM_BATCHES:\n",
        "            try:\n",
        "                images, labels = next(train_iter)\n",
        "            except StopIteration:\n",
        "                train_iter = iter(train_loader)\n",
        "                images, labels = next(train_iter)\n",
        "\n",
        "            optimizer.zero_grad()\n",
        "            outputs = model(images)\n",
        "            loss = criterion(outputs, labels)\n",
        "            loss.backward()\n",
        "            optimizer.step()\n",
        "\n",
        "            batch_count += 1\n",
        "            pbar.update(1)\n",
        "\n",
        "\n",
        "def loss_fn(balanced_accuracy: float, alpha: float, beta: float, S: int, D: int) -> float:\n",
        "    \"\"\"\n",
        "    Computes the loss function based on Balanced Accuracy and a subset penalty.\n",
        "\n",
        "    Args:\n",
        "        balanced_accuracy (float): The Balanced Accuracy of the model on the validation dataset.\n",
        "        alpha (float): Weight for the Balanced Accuracy component of the loss.\n",
        "        beta (float): Weight for the subset size penalty component of the loss.\n",
        "        S (int): Size of the current subset.\n",
        "        D (int): Size of the entire dataset.\n",
        "\n",
        "    Returns:\n",
        "        float: The computed loss value.\n",
        "    \"\"\"\n",
        "    return alpha * balanced_accuracy - beta * (S / D)\n",
        "\n",
        "\n",
        "def validate_model(\n",
        "    model: nn.Module,\n",
        "    val_loader: DataLoader,\n",
        "    alpha: float = 1.0,\n",
        "    beta: float = 0.5,\n",
        "    S: int = 10,\n",
        "    D: int = 1000,\n",
        "    device: torch.device = torch.device(\"cuda\"),\n",
        "    compute_confusion: bool = True,\n",
        ") -> tuple[float, float, None | np.ndarray]:\n",
        "    \"\"\"\n",
        "    Validates the model on the validation dataset and computes the loss based on Balanced Accuracy.\n",
        "\n",
        "    Args:\n",
        "        model (nn.Module): The neural network model to validate.\n",
        "        val_loader (DataLoader): DataLoader for the validation dataset.\n",
        "        alpha (float): Weight for Balanced Accuracy in the loss function.\n",
        "        beta (float): Weight for subset size penalty in the loss function.\n",
        "        S (int): Size of the current subset.\n",
        "        D (int): Size of the full dataset.\n",
        "        device (torch.device): Device for computation ('cuda' or 'cpu').\n",
        "\n",
        "    Returns:\n",
        "        Tuple[float, float]: Loss and Balanced Accuracy.\n",
        "    \"\"\"\n",
        "    device = torch.device(\"cuda\") if torch.cuda.is_available() else \"cpu\"\n",
        "    model.eval()\n",
        "    model.to(device)\n",
        "\n",
        "    all_labels = []\n",
        "    all_predictions = []\n",
        "\n",
        "    with torch.inference_mode():\n",
        "        for images, labels in val_loader:\n",
        "            output = model(images)\n",
        "            _, predicted = torch.max(output.data, 1)\n",
        "            all_labels.extend(labels.cpu().numpy())\n",
        "            all_predictions.extend(predicted.cpu().numpy())\n",
        "\n",
        "    balanced_accuracy = balanced_accuracy_score(all_labels, all_predictions)\n",
        "    loss = loss_fn(balanced_accuracy, alpha, beta, S, D)\n",
        "    if not compute_confusion:\n",
        "        return loss, balanced_accuracy\n",
        "\n",
        "    confusion = confusion_matrix(all_labels, all_predictions)\n",
        "    return loss, balanced_accuracy, confusion"
      ]
    },
    {
      "cell_type": "code",
      "source": [
        "from torch import nn\n",
        "from torch.nn import functional as F\n",
        "\n",
        "\n",
        "class CNN3Channel(nn.Module):\n",
        "    def __init__(self):\n",
        "        super(CNN3Channel, self).__init__()\n",
        "        self.conv1 = nn.Conv2d(3, 16, kernel_size=3, padding=1)\n",
        "        self.conv2 = nn.Conv2d(16, 32, kernel_size=3, padding=1)\n",
        "        self.conv3 = nn.Conv2d(32, 64, kernel_size=3, padding=1)\n",
        "        self.fc1 = nn.Linear(64 * 4 * 4, 128)\n",
        "        self.fc2 = nn.Linear(128, 10)\n",
        "\n",
        "    def forward(self, x):\n",
        "        x = F.relu(self.conv1(x))\n",
        "        x = F.max_pool2d(x, 2)\n",
        "        x = F.relu(self.conv2(x))\n",
        "        x = F.max_pool2d(x, 2)\n",
        "        x = F.relu(self.conv3(x))\n",
        "        x = F.max_pool2d(x, 2)\n",
        "        x = x.view(x.size(0), -1)\n",
        "        x = F.relu(self.fc1(x))\n",
        "        x = self.fc2(x)\n",
        "        return x"
      ],
      "metadata": {
        "id": "WT9S7Pnvh3qp"
      },
      "execution_count": 4,
      "outputs": []
    },
    {
      "cell_type": "code",
      "source": [
        "device = torch.device(\"cuda\") if torch.cuda.is_available() else \"cpu\"\n",
        "num_workers = 0\n",
        "train_dataset, train_dataloader, val_dataloader, test_dataloader = get_dataloaders(\n",
        "    dataset_name=\"CIFAR10\", num_workers=num_workers, device=device\n",
        ")\n"
      ],
      "metadata": {
        "colab": {
          "base_uri": "https://localhost:8080/"
        },
        "id": "8bJGMuo2h5UR",
        "outputId": "7a4511bc-471a-4e45-86de-e0d74cb18b3d"
      },
      "execution_count": 5,
      "outputs": [
        {
          "output_type": "stream",
          "name": "stdout",
          "text": [
            "Files already downloaded and verified\n",
            "Files already downloaded and verified\n"
          ]
        }
      ]
    },
    {
      "cell_type": "code",
      "source": [
        "len(train_dataloader)\n"
      ],
      "metadata": {
        "colab": {
          "base_uri": "https://localhost:8080/"
        },
        "id": "9ey_KlOTjq4z",
        "outputId": "6c07ab76-2e32-428b-991f-63c57337490f"
      },
      "execution_count": 6,
      "outputs": [
        {
          "output_type": "execute_result",
          "data": {
            "text/plain": [
              "1250"
            ]
          },
          "metadata": {},
          "execution_count": 6
        }
      ]
    },
    {
      "cell_type": "code",
      "source": [
        "len(val_dataloader)"
      ],
      "metadata": {
        "colab": {
          "base_uri": "https://localhost:8080/"
        },
        "id": "tjPItBlrkMq6",
        "outputId": "4263ea4a-3ded-44bb-d77a-8a51d0cbbc36"
      },
      "execution_count": 7,
      "outputs": [
        {
          "output_type": "execute_result",
          "data": {
            "text/plain": [
              "313"
            ]
          },
          "metadata": {},
          "execution_count": 7
        }
      ]
    },
    {
      "cell_type": "markdown",
      "source": [
        "# INITIAL INDYVIDUAL SIZE"
      ],
      "metadata": {
        "id": "42YKbGNPjbyN"
      }
    },
    {
      "cell_type": "code",
      "source": [
        "for iter_number in range (1, 10):\n",
        "    for percent in range(5, 101, 5):\n",
        "        score = 0\n",
        "        for i in range(3):\n",
        "            model = CNN3Channel()\n",
        "            train_dataloader = get_subset_loader(\n",
        "                train_dataset,\n",
        "                np.random.choice([True, False], size=len(train_dataset), p=[percent / 100, 1 - percent / 100]),)\n",
        "            train_model(model, train_dataloader, target_iterations=iter_number)\n",
        "            loss, balanced_accuracy = validate_model(model, test_dataloader, compute_confusion=False)\n",
        "            score += balanced_accuracy\n",
        "        score /= 3\n",
        "        print(f\"Percent: {percent}, target_iterations: {iter_number}, Score: {score}\")\n"
      ],
      "metadata": {
        "colab": {
          "base_uri": "https://localhost:8080/"
        },
        "id": "lihDw0djiWJJ",
        "outputId": "ac14ae04-42bc-4762-e57a-118c667a2e5f"
      },
      "execution_count": 17,
      "outputs": [
        {
          "output_type": "stream",
          "name": "stderr",
          "text": [
            "Training Progress: 100%|██████████| 150/150 [00:00<00:00, 327.69it/s]\n",
            "Training Progress: 100%|██████████| 150/150 [00:00<00:00, 271.98it/s]\n",
            "Training Progress: 100%|██████████| 150/150 [00:00<00:00, 251.12it/s]\n"
          ]
        },
        {
          "output_type": "stream",
          "name": "stdout",
          "text": [
            "Percent: 5, target_iterations: 1, Score: 0.34736666666666666\n"
          ]
        },
        {
          "output_type": "stream",
          "name": "stderr",
          "text": [
            "Training Progress: 100%|██████████| 150/150 [00:00<00:00, 362.68it/s]\n",
            "Training Progress: 100%|██████████| 150/150 [00:00<00:00, 347.36it/s]\n",
            "Training Progress: 100%|██████████| 150/150 [00:00<00:00, 352.57it/s]\n"
          ]
        },
        {
          "output_type": "stream",
          "name": "stdout",
          "text": [
            "Percent: 10, target_iterations: 1, Score: 0.3524\n"
          ]
        },
        {
          "output_type": "stream",
          "name": "stderr",
          "text": [
            "Training Progress: 100%|██████████| 150/150 [00:00<00:00, 339.08it/s]\n",
            "Training Progress: 100%|██████████| 150/150 [00:00<00:00, 333.66it/s]\n",
            "Training Progress: 100%|██████████| 150/150 [00:00<00:00, 348.04it/s]\n"
          ]
        },
        {
          "output_type": "stream",
          "name": "stdout",
          "text": [
            "Percent: 15, target_iterations: 1, Score: 0.3436333333333333\n"
          ]
        },
        {
          "output_type": "stream",
          "name": "stderr",
          "text": [
            "Training Progress: 100%|██████████| 150/150 [00:00<00:00, 361.91it/s]\n",
            "Training Progress: 100%|██████████| 150/150 [00:00<00:00, 336.78it/s]\n",
            "Training Progress: 100%|██████████| 150/150 [00:00<00:00, 340.91it/s]\n"
          ]
        },
        {
          "output_type": "stream",
          "name": "stdout",
          "text": [
            "Percent: 20, target_iterations: 1, Score: 0.36590000000000006\n"
          ]
        },
        {
          "output_type": "stream",
          "name": "stderr",
          "text": [
            "Training Progress: 100%|██████████| 150/150 [00:00<00:00, 313.14it/s]\n",
            "Training Progress: 100%|██████████| 150/150 [00:00<00:00, 355.87it/s]\n",
            "Training Progress: 100%|██████████| 150/150 [00:00<00:00, 353.33it/s]\n"
          ]
        },
        {
          "output_type": "stream",
          "name": "stdout",
          "text": [
            "Percent: 25, target_iterations: 1, Score: 0.35800000000000004\n"
          ]
        },
        {
          "output_type": "stream",
          "name": "stderr",
          "text": [
            "Training Progress: 100%|██████████| 150/150 [00:00<00:00, 349.31it/s]\n",
            "Training Progress: 100%|██████████| 150/150 [00:00<00:00, 272.63it/s]\n",
            "Training Progress: 100%|██████████| 150/150 [00:00<00:00, 271.27it/s]\n"
          ]
        },
        {
          "output_type": "stream",
          "name": "stdout",
          "text": [
            "Percent: 30, target_iterations: 1, Score: 0.3644\n"
          ]
        },
        {
          "output_type": "stream",
          "name": "stderr",
          "text": [
            "Training Progress: 100%|██████████| 150/150 [00:00<00:00, 252.77it/s]\n",
            "Training Progress: 100%|██████████| 150/150 [00:00<00:00, 344.98it/s]\n",
            "Training Progress: 100%|██████████| 150/150 [00:00<00:00, 369.07it/s]\n"
          ]
        },
        {
          "output_type": "stream",
          "name": "stdout",
          "text": [
            "Percent: 35, target_iterations: 1, Score: 0.3330666666666667\n"
          ]
        },
        {
          "output_type": "stream",
          "name": "stderr",
          "text": [
            "Training Progress: 100%|██████████| 150/150 [00:00<00:00, 367.51it/s]\n",
            "Training Progress: 100%|██████████| 150/150 [00:00<00:00, 344.34it/s]\n",
            "Training Progress: 100%|██████████| 150/150 [00:00<00:00, 338.46it/s]\n"
          ]
        },
        {
          "output_type": "stream",
          "name": "stdout",
          "text": [
            "Percent: 40, target_iterations: 1, Score: 0.35836666666666667\n"
          ]
        },
        {
          "output_type": "stream",
          "name": "stderr",
          "text": [
            "Training Progress: 100%|██████████| 150/150 [00:00<00:00, 341.75it/s]\n",
            "Training Progress: 100%|██████████| 150/150 [00:00<00:00, 347.95it/s]\n",
            "Training Progress: 100%|██████████| 150/150 [00:00<00:00, 335.66it/s]\n"
          ]
        },
        {
          "output_type": "stream",
          "name": "stdout",
          "text": [
            "Percent: 45, target_iterations: 1, Score: 0.3527333333333333\n"
          ]
        },
        {
          "output_type": "stream",
          "name": "stderr",
          "text": [
            "Training Progress: 100%|██████████| 150/150 [00:00<00:00, 344.14it/s]\n",
            "Training Progress: 100%|██████████| 150/150 [00:00<00:00, 344.50it/s]\n",
            "Training Progress: 100%|██████████| 150/150 [00:00<00:00, 351.99it/s]\n"
          ]
        },
        {
          "output_type": "stream",
          "name": "stdout",
          "text": [
            "Percent: 50, target_iterations: 1, Score: 0.3634\n"
          ]
        },
        {
          "output_type": "stream",
          "name": "stderr",
          "text": [
            "Training Progress: 100%|██████████| 150/150 [00:00<00:00, 351.68it/s]\n",
            "Training Progress: 100%|██████████| 150/150 [00:00<00:00, 307.28it/s]\n",
            "Training Progress: 100%|██████████| 150/150 [00:00<00:00, 274.49it/s]\n"
          ]
        },
        {
          "output_type": "stream",
          "name": "stdout",
          "text": [
            "Percent: 55, target_iterations: 1, Score: 0.3350666666666666\n"
          ]
        },
        {
          "output_type": "stream",
          "name": "stderr",
          "text": [
            "Training Progress: 100%|██████████| 150/150 [00:00<00:00, 251.41it/s]\n",
            "Training Progress: 100%|██████████| 150/150 [00:00<00:00, 356.04it/s]\n",
            "Training Progress: 100%|██████████| 150/150 [00:00<00:00, 353.29it/s]\n"
          ]
        },
        {
          "output_type": "stream",
          "name": "stdout",
          "text": [
            "Percent: 60, target_iterations: 1, Score: 0.35306666666666664\n"
          ]
        },
        {
          "output_type": "stream",
          "name": "stderr",
          "text": [
            "Training Progress: 100%|██████████| 150/150 [00:00<00:00, 342.26it/s]\n",
            "Training Progress: 100%|██████████| 150/150 [00:00<00:00, 324.88it/s]\n",
            "Training Progress: 100%|██████████| 150/150 [00:00<00:00, 345.53it/s]\n"
          ]
        },
        {
          "output_type": "stream",
          "name": "stdout",
          "text": [
            "Percent: 65, target_iterations: 1, Score: 0.36179999999999995\n"
          ]
        },
        {
          "output_type": "stream",
          "name": "stderr",
          "text": [
            "Training Progress: 100%|██████████| 150/150 [00:00<00:00, 357.13it/s]\n",
            "Training Progress: 100%|██████████| 150/150 [00:00<00:00, 350.37it/s]\n",
            "Training Progress: 100%|██████████| 150/150 [00:00<00:00, 344.25it/s]\n"
          ]
        },
        {
          "output_type": "stream",
          "name": "stdout",
          "text": [
            "Percent: 70, target_iterations: 1, Score: 0.36046666666666666\n"
          ]
        },
        {
          "output_type": "stream",
          "name": "stderr",
          "text": [
            "Training Progress: 100%|██████████| 150/150 [00:00<00:00, 342.45it/s]\n",
            "Training Progress: 100%|██████████| 150/150 [00:00<00:00, 339.77it/s]\n",
            "Training Progress: 100%|██████████| 150/150 [00:00<00:00, 337.15it/s]\n"
          ]
        },
        {
          "output_type": "stream",
          "name": "stdout",
          "text": [
            "Percent: 75, target_iterations: 1, Score: 0.3595\n"
          ]
        },
        {
          "output_type": "stream",
          "name": "stderr",
          "text": [
            "Training Progress: 100%|██████████| 150/150 [00:00<00:00, 341.57it/s]\n",
            "Training Progress: 100%|██████████| 150/150 [00:00<00:00, 347.84it/s]\n",
            "Training Progress: 100%|██████████| 150/150 [00:00<00:00, 265.49it/s]\n"
          ]
        },
        {
          "output_type": "stream",
          "name": "stdout",
          "text": [
            "Percent: 80, target_iterations: 1, Score: 0.37553333333333333\n"
          ]
        },
        {
          "output_type": "stream",
          "name": "stderr",
          "text": [
            "Training Progress: 100%|██████████| 150/150 [00:00<00:00, 270.23it/s]\n",
            "Training Progress: 100%|██████████| 150/150 [00:00<00:00, 251.34it/s]\n",
            "Training Progress: 100%|██████████| 150/150 [00:00<00:00, 270.77it/s]\n"
          ]
        },
        {
          "output_type": "stream",
          "name": "stdout",
          "text": [
            "Percent: 85, target_iterations: 1, Score: 0.3663666666666667\n"
          ]
        },
        {
          "output_type": "stream",
          "name": "stderr",
          "text": [
            "Training Progress: 100%|██████████| 150/150 [00:00<00:00, 257.65it/s]\n",
            "Training Progress: 100%|██████████| 150/150 [00:00<00:00, 352.66it/s]\n",
            "Training Progress: 100%|██████████| 150/150 [00:00<00:00, 356.44it/s]\n"
          ]
        },
        {
          "output_type": "stream",
          "name": "stdout",
          "text": [
            "Percent: 90, target_iterations: 1, Score: 0.34559999999999996\n"
          ]
        },
        {
          "output_type": "stream",
          "name": "stderr",
          "text": [
            "Training Progress: 100%|██████████| 150/150 [00:00<00:00, 338.72it/s]\n",
            "Training Progress: 100%|██████████| 150/150 [00:00<00:00, 337.44it/s]\n",
            "Training Progress: 100%|██████████| 150/150 [00:00<00:00, 352.20it/s]\n"
          ]
        },
        {
          "output_type": "stream",
          "name": "stdout",
          "text": [
            "Percent: 95, target_iterations: 1, Score: 0.36546666666666666\n"
          ]
        },
        {
          "output_type": "stream",
          "name": "stderr",
          "text": [
            "Training Progress: 100%|██████████| 150/150 [00:00<00:00, 349.79it/s]\n",
            "Training Progress: 100%|██████████| 150/150 [00:00<00:00, 351.84it/s]\n",
            "Training Progress: 100%|██████████| 150/150 [00:00<00:00, 335.48it/s]\n"
          ]
        },
        {
          "output_type": "stream",
          "name": "stdout",
          "text": [
            "Percent: 100, target_iterations: 1, Score: 0.3600666666666667\n"
          ]
        },
        {
          "output_type": "stream",
          "name": "stderr",
          "text": [
            "Training Progress: 100%|██████████| 300/300 [00:00<00:00, 345.55it/s]\n",
            "Training Progress: 100%|██████████| 300/300 [00:01<00:00, 285.56it/s]\n",
            "Training Progress: 100%|██████████| 300/300 [00:01<00:00, 268.95it/s]\n"
          ]
        },
        {
          "output_type": "stream",
          "name": "stdout",
          "text": [
            "Percent: 5, target_iterations: 2, Score: 0.4056333333333333\n"
          ]
        },
        {
          "output_type": "stream",
          "name": "stderr",
          "text": [
            "Training Progress: 100%|██████████| 300/300 [00:00<00:00, 343.45it/s]\n",
            "Training Progress: 100%|██████████| 300/300 [00:00<00:00, 344.05it/s]\n",
            "Training Progress: 100%|██████████| 300/300 [00:00<00:00, 347.21it/s]\n"
          ]
        },
        {
          "output_type": "stream",
          "name": "stdout",
          "text": [
            "Percent: 10, target_iterations: 2, Score: 0.4144666666666667\n"
          ]
        },
        {
          "output_type": "stream",
          "name": "stderr",
          "text": [
            "Training Progress: 100%|██████████| 300/300 [00:00<00:00, 353.66it/s]\n",
            "Training Progress: 100%|██████████| 300/300 [00:00<00:00, 344.50it/s]\n",
            "Training Progress: 100%|██████████| 300/300 [00:00<00:00, 346.97it/s]\n"
          ]
        },
        {
          "output_type": "stream",
          "name": "stdout",
          "text": [
            "Percent: 15, target_iterations: 2, Score: 0.41230000000000006\n"
          ]
        },
        {
          "output_type": "stream",
          "name": "stderr",
          "text": [
            "Training Progress: 100%|██████████| 300/300 [00:00<00:00, 339.31it/s]\n",
            "Training Progress: 100%|██████████| 300/300 [00:00<00:00, 353.25it/s]\n",
            "Training Progress: 100%|██████████| 300/300 [00:00<00:00, 304.62it/s]\n"
          ]
        },
        {
          "output_type": "stream",
          "name": "stdout",
          "text": [
            "Percent: 20, target_iterations: 2, Score: 0.4168\n"
          ]
        },
        {
          "output_type": "stream",
          "name": "stderr",
          "text": [
            "Training Progress: 100%|██████████| 300/300 [00:01<00:00, 255.62it/s]\n",
            "Training Progress: 100%|██████████| 300/300 [00:00<00:00, 352.01it/s]\n",
            "Training Progress: 100%|██████████| 300/300 [00:00<00:00, 328.05it/s]\n"
          ]
        },
        {
          "output_type": "stream",
          "name": "stdout",
          "text": [
            "Percent: 25, target_iterations: 2, Score: 0.4221000000000001\n"
          ]
        },
        {
          "output_type": "stream",
          "name": "stderr",
          "text": [
            "Training Progress: 100%|██████████| 300/300 [00:00<00:00, 343.74it/s]\n",
            "Training Progress: 100%|██████████| 300/300 [00:00<00:00, 340.10it/s]\n",
            "Training Progress: 100%|██████████| 300/300 [00:00<00:00, 338.57it/s]\n"
          ]
        },
        {
          "output_type": "stream",
          "name": "stdout",
          "text": [
            "Percent: 30, target_iterations: 2, Score: 0.4178\n"
          ]
        },
        {
          "output_type": "stream",
          "name": "stderr",
          "text": [
            "Training Progress: 100%|██████████| 300/300 [00:00<00:00, 346.51it/s]\n",
            "Training Progress: 100%|██████████| 300/300 [00:00<00:00, 355.57it/s]\n",
            "Training Progress: 100%|██████████| 300/300 [00:00<00:00, 347.42it/s]\n"
          ]
        },
        {
          "output_type": "stream",
          "name": "stdout",
          "text": [
            "Percent: 35, target_iterations: 2, Score: 0.4287666666666667\n"
          ]
        },
        {
          "output_type": "stream",
          "name": "stderr",
          "text": [
            "Training Progress: 100%|██████████| 300/300 [00:01<00:00, 274.50it/s]\n",
            "Training Progress: 100%|██████████| 300/300 [00:01<00:00, 249.26it/s]\n",
            "Training Progress: 100%|██████████| 300/300 [00:00<00:00, 343.94it/s]\n"
          ]
        },
        {
          "output_type": "stream",
          "name": "stdout",
          "text": [
            "Percent: 40, target_iterations: 2, Score: 0.42110000000000003\n"
          ]
        },
        {
          "output_type": "stream",
          "name": "stderr",
          "text": [
            "Training Progress: 100%|██████████| 300/300 [00:00<00:00, 357.99it/s]\n",
            "Training Progress: 100%|██████████| 300/300 [00:00<00:00, 354.90it/s]\n",
            "Training Progress: 100%|██████████| 300/300 [00:00<00:00, 346.80it/s]\n"
          ]
        },
        {
          "output_type": "stream",
          "name": "stdout",
          "text": [
            "Percent: 45, target_iterations: 2, Score: 0.4209666666666667\n"
          ]
        },
        {
          "output_type": "stream",
          "name": "stderr",
          "text": [
            "Training Progress: 100%|██████████| 300/300 [00:00<00:00, 350.07it/s]\n",
            "Training Progress: 100%|██████████| 300/300 [00:00<00:00, 347.31it/s]\n",
            "Training Progress: 100%|██████████| 300/300 [00:00<00:00, 355.47it/s]\n"
          ]
        },
        {
          "output_type": "stream",
          "name": "stdout",
          "text": [
            "Percent: 50, target_iterations: 2, Score: 0.4253\n"
          ]
        },
        {
          "output_type": "stream",
          "name": "stderr",
          "text": [
            "Training Progress: 100%|██████████| 300/300 [00:00<00:00, 345.25it/s]\n",
            "Training Progress: 100%|██████████| 300/300 [00:01<00:00, 274.57it/s]\n",
            "Training Progress: 100%|██████████| 300/300 [00:01<00:00, 245.35it/s]\n"
          ]
        },
        {
          "output_type": "stream",
          "name": "stdout",
          "text": [
            "Percent: 55, target_iterations: 2, Score: 0.39620000000000005\n"
          ]
        },
        {
          "output_type": "stream",
          "name": "stderr",
          "text": [
            "Training Progress: 100%|██████████| 300/300 [00:01<00:00, 260.61it/s]\n",
            "Training Progress: 100%|██████████| 300/300 [00:01<00:00, 268.24it/s]\n",
            "Training Progress: 100%|██████████| 300/300 [00:00<00:00, 350.96it/s]\n"
          ]
        },
        {
          "output_type": "stream",
          "name": "stdout",
          "text": [
            "Percent: 60, target_iterations: 2, Score: 0.4154333333333334\n"
          ]
        },
        {
          "output_type": "stream",
          "name": "stderr",
          "text": [
            "Training Progress: 100%|██████████| 300/300 [00:00<00:00, 352.84it/s]\n",
            "Training Progress: 100%|██████████| 300/300 [00:00<00:00, 339.45it/s]\n",
            "Training Progress: 100%|██████████| 300/300 [00:00<00:00, 348.51it/s]\n"
          ]
        },
        {
          "output_type": "stream",
          "name": "stdout",
          "text": [
            "Percent: 65, target_iterations: 2, Score: 0.41513333333333335\n"
          ]
        },
        {
          "output_type": "stream",
          "name": "stderr",
          "text": [
            "Training Progress: 100%|██████████| 300/300 [00:00<00:00, 351.02it/s]\n",
            "Training Progress: 100%|██████████| 300/300 [00:00<00:00, 332.55it/s]\n",
            "Training Progress: 100%|██████████| 300/300 [00:01<00:00, 277.35it/s]\n"
          ]
        },
        {
          "output_type": "stream",
          "name": "stdout",
          "text": [
            "Percent: 70, target_iterations: 2, Score: 0.4107333333333334\n"
          ]
        },
        {
          "output_type": "stream",
          "name": "stderr",
          "text": [
            "Training Progress: 100%|██████████| 300/300 [00:01<00:00, 276.34it/s]\n",
            "Training Progress: 100%|██████████| 300/300 [00:00<00:00, 356.10it/s]\n",
            "Training Progress: 100%|██████████| 300/300 [00:00<00:00, 355.61it/s]\n"
          ]
        },
        {
          "output_type": "stream",
          "name": "stdout",
          "text": [
            "Percent: 75, target_iterations: 2, Score: 0.43570000000000003\n"
          ]
        },
        {
          "output_type": "stream",
          "name": "stderr",
          "text": [
            "Training Progress: 100%|██████████| 300/300 [00:00<00:00, 354.06it/s]\n",
            "Training Progress: 100%|██████████| 300/300 [00:00<00:00, 351.49it/s]\n",
            "Training Progress: 100%|██████████| 300/300 [00:00<00:00, 354.14it/s]\n"
          ]
        },
        {
          "output_type": "stream",
          "name": "stdout",
          "text": [
            "Percent: 80, target_iterations: 2, Score: 0.42356666666666665\n"
          ]
        },
        {
          "output_type": "stream",
          "name": "stderr",
          "text": [
            "Training Progress: 100%|██████████| 300/300 [00:00<00:00, 343.41it/s]\n",
            "Training Progress: 100%|██████████| 300/300 [00:00<00:00, 349.20it/s]\n",
            "Training Progress: 100%|██████████| 300/300 [00:00<00:00, 346.28it/s]\n"
          ]
        },
        {
          "output_type": "stream",
          "name": "stdout",
          "text": [
            "Percent: 85, target_iterations: 2, Score: 0.4133333333333334\n"
          ]
        },
        {
          "output_type": "stream",
          "name": "stderr",
          "text": [
            "Training Progress: 100%|██████████| 300/300 [00:01<00:00, 271.46it/s]\n",
            "Training Progress: 100%|██████████| 300/300 [00:01<00:00, 269.66it/s]\n",
            "Training Progress: 100%|██████████| 300/300 [00:00<00:00, 354.70it/s]\n"
          ]
        },
        {
          "output_type": "stream",
          "name": "stdout",
          "text": [
            "Percent: 90, target_iterations: 2, Score: 0.4239333333333333\n"
          ]
        },
        {
          "output_type": "stream",
          "name": "stderr",
          "text": [
            "Training Progress: 100%|██████████| 300/300 [00:00<00:00, 336.95it/s]\n",
            "Training Progress: 100%|██████████| 300/300 [00:00<00:00, 346.90it/s]\n",
            "Training Progress: 100%|██████████| 300/300 [00:00<00:00, 353.28it/s]\n"
          ]
        },
        {
          "output_type": "stream",
          "name": "stdout",
          "text": [
            "Percent: 95, target_iterations: 2, Score: 0.4249666666666667\n"
          ]
        },
        {
          "output_type": "stream",
          "name": "stderr",
          "text": [
            "Training Progress: 100%|██████████| 300/300 [00:00<00:00, 344.21it/s]\n",
            "Training Progress: 100%|██████████| 300/300 [00:00<00:00, 332.91it/s]\n",
            "Training Progress: 100%|██████████| 300/300 [00:00<00:00, 340.84it/s]\n"
          ]
        },
        {
          "output_type": "stream",
          "name": "stdout",
          "text": [
            "Percent: 100, target_iterations: 2, Score: 0.42189999999999994\n"
          ]
        },
        {
          "output_type": "stream",
          "name": "stderr",
          "text": [
            "Training Progress: 100%|██████████| 450/450 [00:01<00:00, 322.76it/s]\n",
            "Training Progress: 100%|██████████| 450/450 [00:01<00:00, 268.31it/s]\n",
            "Training Progress: 100%|██████████| 450/450 [00:01<00:00, 344.18it/s]\n"
          ]
        },
        {
          "output_type": "stream",
          "name": "stdout",
          "text": [
            "Percent: 5, target_iterations: 3, Score: 0.4341333333333333\n"
          ]
        },
        {
          "output_type": "stream",
          "name": "stderr",
          "text": [
            "Training Progress: 100%|██████████| 450/450 [00:01<00:00, 346.83it/s]\n",
            "Training Progress: 100%|██████████| 450/450 [00:01<00:00, 359.60it/s]\n",
            "Training Progress: 100%|██████████| 450/450 [00:01<00:00, 346.82it/s]\n"
          ]
        },
        {
          "output_type": "stream",
          "name": "stdout",
          "text": [
            "Percent: 10, target_iterations: 3, Score: 0.4563\n"
          ]
        },
        {
          "output_type": "stream",
          "name": "stderr",
          "text": [
            "Training Progress: 100%|██████████| 450/450 [00:01<00:00, 348.59it/s]\n",
            "Training Progress: 100%|██████████| 450/450 [00:01<00:00, 345.55it/s]\n",
            "Training Progress: 100%|██████████| 450/450 [00:01<00:00, 281.72it/s]\n"
          ]
        },
        {
          "output_type": "stream",
          "name": "stdout",
          "text": [
            "Percent: 15, target_iterations: 3, Score: 0.4505666666666667\n"
          ]
        },
        {
          "output_type": "stream",
          "name": "stderr",
          "text": [
            "Training Progress: 100%|██████████| 450/450 [00:01<00:00, 285.13it/s]\n",
            "Training Progress: 100%|██████████| 450/450 [00:01<00:00, 341.21it/s]\n",
            "Training Progress: 100%|██████████| 450/450 [00:01<00:00, 345.22it/s]\n"
          ]
        },
        {
          "output_type": "stream",
          "name": "stdout",
          "text": [
            "Percent: 20, target_iterations: 3, Score: 0.4571\n"
          ]
        },
        {
          "output_type": "stream",
          "name": "stderr",
          "text": [
            "Training Progress: 100%|██████████| 450/450 [00:01<00:00, 342.88it/s]\n",
            "Training Progress: 100%|██████████| 450/450 [00:01<00:00, 351.03it/s]\n",
            "Training Progress: 100%|██████████| 450/450 [00:01<00:00, 344.06it/s]\n"
          ]
        },
        {
          "output_type": "stream",
          "name": "stdout",
          "text": [
            "Percent: 25, target_iterations: 3, Score: 0.4432\n"
          ]
        },
        {
          "output_type": "stream",
          "name": "stderr",
          "text": [
            "Training Progress: 100%|██████████| 450/450 [00:01<00:00, 313.63it/s]\n",
            "Training Progress: 100%|██████████| 450/450 [00:01<00:00, 263.16it/s]\n",
            "Training Progress: 100%|██████████| 450/450 [00:01<00:00, 350.44it/s]\n"
          ]
        },
        {
          "output_type": "stream",
          "name": "stdout",
          "text": [
            "Percent: 30, target_iterations: 3, Score: 0.4599333333333333\n"
          ]
        },
        {
          "output_type": "stream",
          "name": "stderr",
          "text": [
            "Training Progress: 100%|██████████| 450/450 [00:01<00:00, 342.75it/s]\n",
            "Training Progress: 100%|██████████| 450/450 [00:01<00:00, 352.04it/s]\n",
            "Training Progress: 100%|██████████| 450/450 [00:01<00:00, 343.80it/s]\n"
          ]
        },
        {
          "output_type": "stream",
          "name": "stdout",
          "text": [
            "Percent: 35, target_iterations: 3, Score: 0.45186666666666664\n"
          ]
        },
        {
          "output_type": "stream",
          "name": "stderr",
          "text": [
            "Training Progress: 100%|██████████| 450/450 [00:01<00:00, 350.10it/s]\n",
            "Training Progress: 100%|██████████| 450/450 [00:01<00:00, 352.44it/s]\n",
            "Training Progress: 100%|██████████| 450/450 [00:01<00:00, 264.87it/s]\n"
          ]
        },
        {
          "output_type": "stream",
          "name": "stdout",
          "text": [
            "Percent: 40, target_iterations: 3, Score: 0.47113333333333335\n"
          ]
        },
        {
          "output_type": "stream",
          "name": "stderr",
          "text": [
            "Training Progress: 100%|██████████| 450/450 [00:01<00:00, 316.31it/s]\n",
            "Training Progress: 100%|██████████| 450/450 [00:01<00:00, 352.25it/s]\n",
            "Training Progress: 100%|██████████| 450/450 [00:01<00:00, 343.25it/s]\n"
          ]
        },
        {
          "output_type": "stream",
          "name": "stdout",
          "text": [
            "Percent: 45, target_iterations: 3, Score: 0.4604333333333333\n"
          ]
        },
        {
          "output_type": "stream",
          "name": "stderr",
          "text": [
            "Training Progress: 100%|██████████| 450/450 [00:01<00:00, 340.11it/s]\n",
            "Training Progress: 100%|██████████| 450/450 [00:01<00:00, 350.53it/s]\n",
            "Training Progress: 100%|██████████| 450/450 [00:01<00:00, 342.66it/s]\n"
          ]
        },
        {
          "output_type": "stream",
          "name": "stdout",
          "text": [
            "Percent: 50, target_iterations: 3, Score: 0.45396666666666663\n"
          ]
        },
        {
          "output_type": "stream",
          "name": "stderr",
          "text": [
            "Training Progress: 100%|██████████| 450/450 [00:01<00:00, 286.75it/s]\n",
            "Training Progress: 100%|██████████| 450/450 [00:01<00:00, 289.40it/s]\n",
            "Training Progress: 100%|██████████| 450/450 [00:01<00:00, 349.14it/s]\n"
          ]
        },
        {
          "output_type": "stream",
          "name": "stdout",
          "text": [
            "Percent: 55, target_iterations: 3, Score: 0.4571666666666667\n"
          ]
        },
        {
          "output_type": "stream",
          "name": "stderr",
          "text": [
            "Training Progress: 100%|██████████| 450/450 [00:01<00:00, 337.29it/s]\n",
            "Training Progress: 100%|██████████| 450/450 [00:01<00:00, 348.42it/s]\n",
            "Training Progress: 100%|██████████| 450/450 [00:01<00:00, 348.53it/s]\n"
          ]
        },
        {
          "output_type": "stream",
          "name": "stdout",
          "text": [
            "Percent: 60, target_iterations: 3, Score: 0.4503666666666666\n"
          ]
        },
        {
          "output_type": "stream",
          "name": "stderr",
          "text": [
            "Training Progress: 100%|██████████| 450/450 [00:01<00:00, 341.27it/s]\n",
            "Training Progress: 100%|██████████| 450/450 [00:01<00:00, 305.07it/s]\n",
            "Training Progress: 100%|██████████| 450/450 [00:01<00:00, 251.05it/s]\n"
          ]
        },
        {
          "output_type": "stream",
          "name": "stdout",
          "text": [
            "Percent: 65, target_iterations: 3, Score: 0.46110000000000007\n"
          ]
        },
        {
          "output_type": "stream",
          "name": "stderr",
          "text": [
            "Training Progress: 100%|██████████| 450/450 [00:01<00:00, 345.23it/s]\n",
            "Training Progress: 100%|██████████| 450/450 [00:01<00:00, 341.08it/s]\n",
            "Training Progress: 100%|██████████| 450/450 [00:01<00:00, 337.39it/s]\n"
          ]
        },
        {
          "output_type": "stream",
          "name": "stdout",
          "text": [
            "Percent: 70, target_iterations: 3, Score: 0.4485666666666666\n"
          ]
        },
        {
          "output_type": "stream",
          "name": "stderr",
          "text": [
            "Training Progress: 100%|██████████| 450/450 [00:01<00:00, 338.35it/s]\n",
            "Training Progress: 100%|██████████| 450/450 [00:01<00:00, 339.47it/s]\n",
            "Training Progress: 100%|██████████| 450/450 [00:01<00:00, 337.62it/s]\n"
          ]
        },
        {
          "output_type": "stream",
          "name": "stdout",
          "text": [
            "Percent: 75, target_iterations: 3, Score: 0.4448666666666667\n"
          ]
        },
        {
          "output_type": "stream",
          "name": "stderr",
          "text": [
            "Training Progress: 100%|██████████| 450/450 [00:01<00:00, 272.39it/s]\n",
            "Training Progress: 100%|██████████| 450/450 [00:01<00:00, 336.93it/s]\n",
            "Training Progress: 100%|██████████| 450/450 [00:01<00:00, 343.22it/s]\n"
          ]
        },
        {
          "output_type": "stream",
          "name": "stdout",
          "text": [
            "Percent: 80, target_iterations: 3, Score: 0.4483\n"
          ]
        },
        {
          "output_type": "stream",
          "name": "stderr",
          "text": [
            "Training Progress: 100%|██████████| 450/450 [00:01<00:00, 347.58it/s]\n",
            "Training Progress: 100%|██████████| 450/450 [00:01<00:00, 345.60it/s]\n",
            "Training Progress: 100%|██████████| 450/450 [00:01<00:00, 345.60it/s]\n"
          ]
        },
        {
          "output_type": "stream",
          "name": "stdout",
          "text": [
            "Percent: 85, target_iterations: 3, Score: 0.4557\n"
          ]
        },
        {
          "output_type": "stream",
          "name": "stderr",
          "text": [
            "Training Progress: 100%|██████████| 450/450 [00:01<00:00, 350.86it/s]\n",
            "Training Progress: 100%|██████████| 450/450 [00:01<00:00, 277.44it/s]\n",
            "Training Progress: 100%|██████████| 450/450 [00:01<00:00, 294.60it/s]\n"
          ]
        },
        {
          "output_type": "stream",
          "name": "stdout",
          "text": [
            "Percent: 90, target_iterations: 3, Score: 0.4515\n"
          ]
        },
        {
          "output_type": "stream",
          "name": "stderr",
          "text": [
            "Training Progress: 100%|██████████| 450/450 [00:01<00:00, 341.37it/s]\n",
            "Training Progress: 100%|██████████| 450/450 [00:01<00:00, 337.05it/s]\n",
            "Training Progress: 100%|██████████| 450/450 [00:01<00:00, 351.46it/s]\n"
          ]
        },
        {
          "output_type": "stream",
          "name": "stdout",
          "text": [
            "Percent: 95, target_iterations: 3, Score: 0.4581666666666666\n"
          ]
        },
        {
          "output_type": "stream",
          "name": "stderr",
          "text": [
            "Training Progress: 100%|██████████| 450/450 [00:01<00:00, 350.00it/s]\n",
            "Training Progress: 100%|██████████| 450/450 [00:01<00:00, 344.27it/s]\n",
            "Training Progress: 100%|██████████| 450/450 [00:01<00:00, 303.06it/s]\n"
          ]
        },
        {
          "output_type": "stream",
          "name": "stdout",
          "text": [
            "Percent: 100, target_iterations: 3, Score: 0.4540666666666666\n"
          ]
        },
        {
          "output_type": "stream",
          "name": "stderr",
          "text": [
            "Training Progress: 100%|██████████| 600/600 [00:02<00:00, 269.14it/s]\n",
            "Training Progress: 100%|██████████| 600/600 [00:01<00:00, 348.77it/s]\n",
            "Training Progress: 100%|██████████| 600/600 [00:01<00:00, 348.92it/s]\n"
          ]
        },
        {
          "output_type": "stream",
          "name": "stdout",
          "text": [
            "Percent: 5, target_iterations: 4, Score: 0.4629333333333334\n"
          ]
        },
        {
          "output_type": "stream",
          "name": "stderr",
          "text": [
            "Training Progress: 100%|██████████| 600/600 [00:01<00:00, 345.50it/s]\n",
            "Training Progress: 100%|██████████| 600/600 [00:01<00:00, 351.43it/s]\n",
            "Training Progress: 100%|██████████| 600/600 [00:01<00:00, 306.28it/s]\n"
          ]
        },
        {
          "output_type": "stream",
          "name": "stdout",
          "text": [
            "Percent: 10, target_iterations: 4, Score: 0.4752\n"
          ]
        },
        {
          "output_type": "stream",
          "name": "stderr",
          "text": [
            "Training Progress: 100%|██████████| 600/600 [00:02<00:00, 278.84it/s]\n",
            "Training Progress: 100%|██████████| 600/600 [00:01<00:00, 346.64it/s]\n",
            "Training Progress: 100%|██████████| 600/600 [00:01<00:00, 349.50it/s]\n"
          ]
        },
        {
          "output_type": "stream",
          "name": "stdout",
          "text": [
            "Percent: 15, target_iterations: 4, Score: 0.47700000000000004\n"
          ]
        },
        {
          "output_type": "stream",
          "name": "stderr",
          "text": [
            "Training Progress: 100%|██████████| 600/600 [00:01<00:00, 347.92it/s]\n",
            "Training Progress: 100%|██████████| 600/600 [00:01<00:00, 338.27it/s]\n",
            "Training Progress: 100%|██████████| 600/600 [00:02<00:00, 292.95it/s]\n"
          ]
        },
        {
          "output_type": "stream",
          "name": "stdout",
          "text": [
            "Percent: 20, target_iterations: 4, Score: 0.47963333333333336\n"
          ]
        },
        {
          "output_type": "stream",
          "name": "stderr",
          "text": [
            "Training Progress: 100%|██████████| 600/600 [00:02<00:00, 297.40it/s]\n",
            "Training Progress: 100%|██████████| 600/600 [00:01<00:00, 342.59it/s]\n",
            "Training Progress: 100%|██████████| 600/600 [00:01<00:00, 345.35it/s]\n"
          ]
        },
        {
          "output_type": "stream",
          "name": "stdout",
          "text": [
            "Percent: 25, target_iterations: 4, Score: 0.4795333333333333\n"
          ]
        },
        {
          "output_type": "stream",
          "name": "stderr",
          "text": [
            "Training Progress: 100%|██████████| 600/600 [00:01<00:00, 348.70it/s]\n",
            "Training Progress: 100%|██████████| 600/600 [00:01<00:00, 345.59it/s]\n",
            "Training Progress: 100%|██████████| 600/600 [00:02<00:00, 279.81it/s]\n"
          ]
        },
        {
          "output_type": "stream",
          "name": "stdout",
          "text": [
            "Percent: 30, target_iterations: 4, Score: 0.4864\n"
          ]
        },
        {
          "output_type": "stream",
          "name": "stderr",
          "text": [
            "Training Progress: 100%|██████████| 600/600 [00:01<00:00, 313.16it/s]\n",
            "Training Progress: 100%|██████████| 600/600 [00:01<00:00, 343.38it/s]\n",
            "Training Progress: 100%|██████████| 600/600 [00:01<00:00, 348.65it/s]\n"
          ]
        },
        {
          "output_type": "stream",
          "name": "stdout",
          "text": [
            "Percent: 35, target_iterations: 4, Score: 0.48103333333333326\n"
          ]
        },
        {
          "output_type": "stream",
          "name": "stderr",
          "text": [
            "Training Progress: 100%|██████████| 600/600 [00:01<00:00, 342.96it/s]\n",
            "Training Progress: 100%|██████████| 600/600 [00:01<00:00, 346.14it/s]\n",
            "Training Progress: 100%|██████████| 600/600 [00:02<00:00, 265.48it/s]\n"
          ]
        },
        {
          "output_type": "stream",
          "name": "stdout",
          "text": [
            "Percent: 40, target_iterations: 4, Score: 0.4840666666666667\n"
          ]
        },
        {
          "output_type": "stream",
          "name": "stderr",
          "text": [
            "Training Progress: 100%|██████████| 600/600 [00:01<00:00, 330.29it/s]\n",
            "Training Progress: 100%|██████████| 600/600 [00:01<00:00, 347.44it/s]\n",
            "Training Progress: 100%|██████████| 600/600 [00:01<00:00, 344.64it/s]\n"
          ]
        },
        {
          "output_type": "stream",
          "name": "stdout",
          "text": [
            "Percent: 45, target_iterations: 4, Score: 0.4735666666666667\n"
          ]
        },
        {
          "output_type": "stream",
          "name": "stderr",
          "text": [
            "Training Progress: 100%|██████████| 600/600 [00:01<00:00, 342.98it/s]\n",
            "Training Progress: 100%|██████████| 600/600 [00:01<00:00, 348.47it/s]\n",
            "Training Progress: 100%|██████████| 600/600 [00:02<00:00, 264.21it/s]\n"
          ]
        },
        {
          "output_type": "stream",
          "name": "stdout",
          "text": [
            "Percent: 50, target_iterations: 4, Score: 0.4854333333333334\n"
          ]
        },
        {
          "output_type": "stream",
          "name": "stderr",
          "text": [
            "Training Progress: 100%|██████████| 600/600 [00:01<00:00, 347.99it/s]\n",
            "Training Progress: 100%|██████████| 600/600 [00:01<00:00, 340.92it/s]\n",
            "Training Progress: 100%|██████████| 600/600 [00:01<00:00, 344.01it/s]\n"
          ]
        },
        {
          "output_type": "stream",
          "name": "stdout",
          "text": [
            "Percent: 55, target_iterations: 4, Score: 0.48960000000000004\n"
          ]
        },
        {
          "output_type": "stream",
          "name": "stderr",
          "text": [
            "Training Progress: 100%|██████████| 600/600 [00:01<00:00, 348.74it/s]\n",
            "Training Progress: 100%|██████████| 600/600 [00:01<00:00, 320.73it/s]\n",
            "Training Progress: 100%|██████████| 600/600 [00:02<00:00, 266.30it/s]\n"
          ]
        },
        {
          "output_type": "stream",
          "name": "stdout",
          "text": [
            "Percent: 60, target_iterations: 4, Score: 0.4876666666666667\n"
          ]
        },
        {
          "output_type": "stream",
          "name": "stderr",
          "text": [
            "Training Progress: 100%|██████████| 600/600 [00:01<00:00, 346.88it/s]\n",
            "Training Progress: 100%|██████████| 600/600 [00:01<00:00, 344.70it/s]\n",
            "Training Progress: 100%|██████████| 600/600 [00:01<00:00, 343.68it/s]\n"
          ]
        },
        {
          "output_type": "stream",
          "name": "stdout",
          "text": [
            "Percent: 65, target_iterations: 4, Score: 0.4729666666666667\n"
          ]
        },
        {
          "output_type": "stream",
          "name": "stderr",
          "text": [
            "Training Progress: 100%|██████████| 600/600 [00:01<00:00, 345.15it/s]\n",
            "Training Progress: 100%|██████████| 600/600 [00:01<00:00, 310.26it/s]\n",
            "Training Progress: 100%|██████████| 600/600 [00:02<00:00, 279.35it/s]\n"
          ]
        },
        {
          "output_type": "stream",
          "name": "stdout",
          "text": [
            "Percent: 70, target_iterations: 4, Score: 0.4795666666666667\n"
          ]
        },
        {
          "output_type": "stream",
          "name": "stderr",
          "text": [
            "Training Progress: 100%|██████████| 600/600 [00:01<00:00, 344.13it/s]\n",
            "Training Progress: 100%|██████████| 600/600 [00:01<00:00, 342.95it/s]\n",
            "Training Progress: 100%|██████████| 600/600 [00:01<00:00, 350.87it/s]\n"
          ]
        },
        {
          "output_type": "stream",
          "name": "stdout",
          "text": [
            "Percent: 75, target_iterations: 4, Score: 0.48439999999999994\n"
          ]
        },
        {
          "output_type": "stream",
          "name": "stderr",
          "text": [
            "Training Progress: 100%|██████████| 600/600 [00:01<00:00, 343.07it/s]\n",
            "Training Progress: 100%|██████████| 600/600 [00:02<00:00, 289.15it/s]\n",
            "Training Progress: 100%|██████████| 600/600 [00:01<00:00, 302.16it/s]\n"
          ]
        },
        {
          "output_type": "stream",
          "name": "stdout",
          "text": [
            "Percent: 80, target_iterations: 4, Score: 0.48806666666666665\n"
          ]
        },
        {
          "output_type": "stream",
          "name": "stderr",
          "text": [
            "Training Progress: 100%|██████████| 600/600 [00:01<00:00, 344.68it/s]\n",
            "Training Progress: 100%|██████████| 600/600 [00:01<00:00, 349.78it/s]\n",
            "Training Progress: 100%|██████████| 600/600 [00:01<00:00, 343.10it/s]\n"
          ]
        },
        {
          "output_type": "stream",
          "name": "stdout",
          "text": [
            "Percent: 85, target_iterations: 4, Score: 0.4652333333333332\n"
          ]
        },
        {
          "output_type": "stream",
          "name": "stderr",
          "text": [
            "Training Progress: 100%|██████████| 600/600 [00:01<00:00, 344.09it/s]\n",
            "Training Progress: 100%|██████████| 600/600 [00:02<00:00, 275.44it/s]\n",
            "Training Progress: 100%|██████████| 600/600 [00:01<00:00, 321.07it/s]\n"
          ]
        },
        {
          "output_type": "stream",
          "name": "stdout",
          "text": [
            "Percent: 90, target_iterations: 4, Score: 0.4780666666666667\n"
          ]
        },
        {
          "output_type": "stream",
          "name": "stderr",
          "text": [
            "Training Progress: 100%|██████████| 600/600 [00:01<00:00, 348.94it/s]\n",
            "Training Progress: 100%|██████████| 600/600 [00:01<00:00, 349.12it/s]\n",
            "Training Progress: 100%|██████████| 600/600 [00:01<00:00, 346.72it/s]\n"
          ]
        },
        {
          "output_type": "stream",
          "name": "stdout",
          "text": [
            "Percent: 95, target_iterations: 4, Score: 0.4791666666666667\n"
          ]
        },
        {
          "output_type": "stream",
          "name": "stderr",
          "text": [
            "Training Progress: 100%|██████████| 600/600 [00:01<00:00, 341.52it/s]\n",
            "Training Progress: 100%|██████████| 600/600 [00:02<00:00, 265.73it/s]\n",
            "Training Progress: 100%|██████████| 600/600 [00:01<00:00, 348.14it/s]\n"
          ]
        },
        {
          "output_type": "stream",
          "name": "stdout",
          "text": [
            "Percent: 100, target_iterations: 4, Score: 0.47936666666666666\n"
          ]
        },
        {
          "output_type": "stream",
          "name": "stderr",
          "text": [
            "Training Progress: 100%|██████████| 750/750 [00:02<00:00, 352.68it/s]\n",
            "Training Progress: 100%|██████████| 750/750 [00:02<00:00, 341.11it/s]\n",
            "Training Progress: 100%|██████████| 750/750 [00:02<00:00, 351.23it/s]\n"
          ]
        },
        {
          "output_type": "stream",
          "name": "stdout",
          "text": [
            "Percent: 5, target_iterations: 5, Score: 0.4859\n"
          ]
        },
        {
          "output_type": "stream",
          "name": "stderr",
          "text": [
            "Training Progress: 100%|██████████| 750/750 [00:02<00:00, 288.35it/s]\n",
            "Training Progress: 100%|██████████| 750/750 [00:02<00:00, 322.61it/s]\n",
            "Training Progress: 100%|██████████| 750/750 [00:02<00:00, 346.17it/s]\n"
          ]
        },
        {
          "output_type": "stream",
          "name": "stdout",
          "text": [
            "Percent: 10, target_iterations: 5, Score: 0.4969000000000001\n"
          ]
        },
        {
          "output_type": "stream",
          "name": "stderr",
          "text": [
            "Training Progress: 100%|██████████| 750/750 [00:02<00:00, 347.10it/s]\n",
            "Training Progress: 100%|██████████| 750/750 [00:02<00:00, 343.01it/s]\n",
            "Training Progress: 100%|██████████| 750/750 [00:02<00:00, 274.45it/s]\n"
          ]
        },
        {
          "output_type": "stream",
          "name": "stdout",
          "text": [
            "Percent: 15, target_iterations: 5, Score: 0.4731000000000001\n"
          ]
        },
        {
          "output_type": "stream",
          "name": "stderr",
          "text": [
            "Training Progress: 100%|██████████| 750/750 [00:02<00:00, 341.31it/s]\n",
            "Training Progress: 100%|██████████| 750/750 [00:02<00:00, 341.06it/s]\n",
            "Training Progress: 100%|██████████| 750/750 [00:02<00:00, 337.42it/s]\n"
          ]
        },
        {
          "output_type": "stream",
          "name": "stdout",
          "text": [
            "Percent: 20, target_iterations: 5, Score: 0.5119\n"
          ]
        },
        {
          "output_type": "stream",
          "name": "stderr",
          "text": [
            "Training Progress: 100%|██████████| 750/750 [00:02<00:00, 348.05it/s]\n",
            "Training Progress: 100%|██████████| 750/750 [00:02<00:00, 268.47it/s]\n",
            "Training Progress: 100%|██████████| 750/750 [00:02<00:00, 353.38it/s]\n"
          ]
        },
        {
          "output_type": "stream",
          "name": "stdout",
          "text": [
            "Percent: 25, target_iterations: 5, Score: 0.5019999999999999\n"
          ]
        },
        {
          "output_type": "stream",
          "name": "stderr",
          "text": [
            "Training Progress: 100%|██████████| 750/750 [00:02<00:00, 341.32it/s]\n",
            "Training Progress: 100%|██████████| 750/750 [00:02<00:00, 349.58it/s]\n",
            "Training Progress: 100%|██████████| 750/750 [00:02<00:00, 336.83it/s]\n"
          ]
        },
        {
          "output_type": "stream",
          "name": "stdout",
          "text": [
            "Percent: 30, target_iterations: 5, Score: 0.5041666666666668\n"
          ]
        },
        {
          "output_type": "stream",
          "name": "stderr",
          "text": [
            "Training Progress: 100%|██████████| 750/750 [00:02<00:00, 271.47it/s]\n",
            "Training Progress: 100%|██████████| 750/750 [00:02<00:00, 343.80it/s]\n",
            "Training Progress: 100%|██████████| 750/750 [00:02<00:00, 344.28it/s]\n"
          ]
        },
        {
          "output_type": "stream",
          "name": "stdout",
          "text": [
            "Percent: 35, target_iterations: 5, Score: 0.5035666666666666\n"
          ]
        },
        {
          "output_type": "stream",
          "name": "stderr",
          "text": [
            "Training Progress: 100%|██████████| 750/750 [00:02<00:00, 345.94it/s]\n",
            "Training Progress: 100%|██████████| 750/750 [00:02<00:00, 325.56it/s]\n",
            "Training Progress: 100%|██████████| 750/750 [00:02<00:00, 285.62it/s]\n"
          ]
        },
        {
          "output_type": "stream",
          "name": "stdout",
          "text": [
            "Percent: 40, target_iterations: 5, Score: 0.5029666666666667\n"
          ]
        },
        {
          "output_type": "stream",
          "name": "stderr",
          "text": [
            "Training Progress: 100%|██████████| 750/750 [00:02<00:00, 347.75it/s]\n",
            "Training Progress: 100%|██████████| 750/750 [00:02<00:00, 351.16it/s]\n",
            "Training Progress: 100%|██████████| 750/750 [00:02<00:00, 352.25it/s]\n"
          ]
        },
        {
          "output_type": "stream",
          "name": "stdout",
          "text": [
            "Percent: 45, target_iterations: 5, Score: 0.5121666666666667\n"
          ]
        },
        {
          "output_type": "stream",
          "name": "stderr",
          "text": [
            "Training Progress: 100%|██████████| 750/750 [00:02<00:00, 314.48it/s]\n",
            "Training Progress: 100%|██████████| 750/750 [00:02<00:00, 296.69it/s]\n",
            "Training Progress: 100%|██████████| 750/750 [00:02<00:00, 344.93it/s]\n"
          ]
        },
        {
          "output_type": "stream",
          "name": "stdout",
          "text": [
            "Percent: 50, target_iterations: 5, Score: 0.4963666666666667\n"
          ]
        },
        {
          "output_type": "stream",
          "name": "stderr",
          "text": [
            "Training Progress: 100%|██████████| 750/750 [00:02<00:00, 347.07it/s]\n",
            "Training Progress: 100%|██████████| 750/750 [00:02<00:00, 345.08it/s]\n",
            "Training Progress: 100%|██████████| 750/750 [00:02<00:00, 301.85it/s]\n"
          ]
        },
        {
          "output_type": "stream",
          "name": "stdout",
          "text": [
            "Percent: 55, target_iterations: 5, Score: 0.505\n"
          ]
        },
        {
          "output_type": "stream",
          "name": "stderr",
          "text": [
            "Training Progress: 100%|██████████| 750/750 [00:02<00:00, 313.57it/s]\n",
            "Training Progress: 100%|██████████| 750/750 [00:02<00:00, 343.89it/s]\n",
            "Training Progress: 100%|██████████| 750/750 [00:02<00:00, 342.57it/s]\n"
          ]
        },
        {
          "output_type": "stream",
          "name": "stdout",
          "text": [
            "Percent: 60, target_iterations: 5, Score: 0.4921\n"
          ]
        },
        {
          "output_type": "stream",
          "name": "stderr",
          "text": [
            "Training Progress: 100%|██████████| 750/750 [00:02<00:00, 345.50it/s]\n",
            "Training Progress: 100%|██████████| 750/750 [00:02<00:00, 283.55it/s]\n",
            "Training Progress: 100%|██████████| 750/750 [00:02<00:00, 332.92it/s]\n"
          ]
        },
        {
          "output_type": "stream",
          "name": "stdout",
          "text": [
            "Percent: 65, target_iterations: 5, Score: 0.5087333333333334\n"
          ]
        },
        {
          "output_type": "stream",
          "name": "stderr",
          "text": [
            "Training Progress: 100%|██████████| 750/750 [00:02<00:00, 346.58it/s]\n",
            "Training Progress: 100%|██████████| 750/750 [00:02<00:00, 341.46it/s]\n",
            "Training Progress: 100%|██████████| 750/750 [00:02<00:00, 347.03it/s]\n"
          ]
        },
        {
          "output_type": "stream",
          "name": "stdout",
          "text": [
            "Percent: 70, target_iterations: 5, Score: 0.5052\n"
          ]
        },
        {
          "output_type": "stream",
          "name": "stderr",
          "text": [
            "Training Progress: 100%|██████████| 750/750 [00:02<00:00, 265.78it/s]\n",
            "Training Progress: 100%|██████████| 750/750 [00:02<00:00, 344.27it/s]\n",
            "Training Progress: 100%|██████████| 750/750 [00:02<00:00, 338.63it/s]\n"
          ]
        },
        {
          "output_type": "stream",
          "name": "stdout",
          "text": [
            "Percent: 75, target_iterations: 5, Score: 0.5085666666666667\n"
          ]
        },
        {
          "output_type": "stream",
          "name": "stderr",
          "text": [
            "Training Progress: 100%|██████████| 750/750 [00:02<00:00, 348.03it/s]\n",
            "Training Progress: 100%|██████████| 750/750 [00:02<00:00, 346.10it/s]\n",
            "Training Progress: 100%|██████████| 750/750 [00:02<00:00, 270.51it/s]\n"
          ]
        },
        {
          "output_type": "stream",
          "name": "stdout",
          "text": [
            "Percent: 80, target_iterations: 5, Score: 0.5081666666666665\n"
          ]
        },
        {
          "output_type": "stream",
          "name": "stderr",
          "text": [
            "Training Progress: 100%|██████████| 750/750 [00:02<00:00, 339.79it/s]\n",
            "Training Progress: 100%|██████████| 750/750 [00:02<00:00, 348.54it/s]\n",
            "Training Progress: 100%|██████████| 750/750 [00:02<00:00, 340.34it/s]\n"
          ]
        },
        {
          "output_type": "stream",
          "name": "stdout",
          "text": [
            "Percent: 85, target_iterations: 5, Score: 0.48773333333333335\n"
          ]
        },
        {
          "output_type": "stream",
          "name": "stderr",
          "text": [
            "Training Progress: 100%|██████████| 750/750 [00:02<00:00, 325.76it/s]\n",
            "Training Progress: 100%|██████████| 750/750 [00:02<00:00, 280.81it/s]\n",
            "Training Progress: 100%|██████████| 750/750 [00:02<00:00, 341.85it/s]\n"
          ]
        },
        {
          "output_type": "stream",
          "name": "stdout",
          "text": [
            "Percent: 90, target_iterations: 5, Score: 0.5169\n"
          ]
        },
        {
          "output_type": "stream",
          "name": "stderr",
          "text": [
            "Training Progress: 100%|██████████| 750/750 [00:02<00:00, 344.29it/s]\n",
            "Training Progress: 100%|██████████| 750/750 [00:02<00:00, 344.24it/s]\n",
            "Training Progress: 100%|██████████| 750/750 [00:02<00:00, 306.80it/s]\n"
          ]
        },
        {
          "output_type": "stream",
          "name": "stdout",
          "text": [
            "Percent: 95, target_iterations: 5, Score: 0.49346666666666666\n"
          ]
        },
        {
          "output_type": "stream",
          "name": "stderr",
          "text": [
            "Training Progress: 100%|██████████| 750/750 [00:02<00:00, 287.37it/s]\n",
            "Training Progress: 100%|██████████| 750/750 [00:02<00:00, 339.61it/s]\n",
            "Training Progress: 100%|██████████| 750/750 [00:02<00:00, 345.49it/s]\n"
          ]
        },
        {
          "output_type": "stream",
          "name": "stdout",
          "text": [
            "Percent: 100, target_iterations: 5, Score: 0.5052666666666666\n"
          ]
        },
        {
          "output_type": "stream",
          "name": "stderr",
          "text": [
            "Training Progress: 100%|██████████| 900/900 [00:02<00:00, 341.98it/s]\n",
            "Training Progress: 100%|██████████| 900/900 [00:03<00:00, 276.71it/s]\n",
            "Training Progress: 100%|██████████| 900/900 [00:02<00:00, 345.23it/s]\n"
          ]
        },
        {
          "output_type": "stream",
          "name": "stdout",
          "text": [
            "Percent: 5, target_iterations: 6, Score: 0.47603333333333336\n"
          ]
        },
        {
          "output_type": "stream",
          "name": "stderr",
          "text": [
            "Training Progress: 100%|██████████| 900/900 [00:02<00:00, 345.84it/s]\n",
            "Training Progress: 100%|██████████| 900/900 [00:02<00:00, 350.46it/s]\n",
            "Training Progress: 100%|██████████| 900/900 [00:02<00:00, 301.92it/s]\n"
          ]
        },
        {
          "output_type": "stream",
          "name": "stdout",
          "text": [
            "Percent: 10, target_iterations: 6, Score: 0.5166\n"
          ]
        },
        {
          "output_type": "stream",
          "name": "stderr",
          "text": [
            "Training Progress: 100%|██████████| 900/900 [00:02<00:00, 320.51it/s]\n",
            "Training Progress: 100%|██████████| 900/900 [00:02<00:00, 348.14it/s]\n",
            "Training Progress: 100%|██████████| 900/900 [00:02<00:00, 348.72it/s]\n"
          ]
        },
        {
          "output_type": "stream",
          "name": "stdout",
          "text": [
            "Percent: 15, target_iterations: 6, Score: 0.5183666666666666\n"
          ]
        },
        {
          "output_type": "stream",
          "name": "stderr",
          "text": [
            "Training Progress: 100%|██████████| 900/900 [00:02<00:00, 315.43it/s]\n",
            "Training Progress: 100%|██████████| 900/900 [00:02<00:00, 302.40it/s]\n",
            "Training Progress: 100%|██████████| 900/900 [00:02<00:00, 347.67it/s]\n"
          ]
        },
        {
          "output_type": "stream",
          "name": "stdout",
          "text": [
            "Percent: 20, target_iterations: 6, Score: 0.5227\n"
          ]
        },
        {
          "output_type": "stream",
          "name": "stderr",
          "text": [
            "Training Progress: 100%|██████████| 900/900 [00:02<00:00, 346.65it/s]\n",
            "Training Progress: 100%|██████████| 900/900 [00:02<00:00, 320.37it/s]\n",
            "Training Progress: 100%|██████████| 900/900 [00:03<00:00, 290.25it/s]\n"
          ]
        },
        {
          "output_type": "stream",
          "name": "stdout",
          "text": [
            "Percent: 25, target_iterations: 6, Score: 0.5203333333333333\n"
          ]
        },
        {
          "output_type": "stream",
          "name": "stderr",
          "text": [
            "Training Progress: 100%|██████████| 900/900 [00:02<00:00, 349.95it/s]\n",
            "Training Progress: 100%|██████████| 900/900 [00:02<00:00, 341.01it/s]\n",
            "Training Progress: 100%|██████████| 900/900 [00:02<00:00, 339.19it/s]\n"
          ]
        },
        {
          "output_type": "stream",
          "name": "stdout",
          "text": [
            "Percent: 30, target_iterations: 6, Score: 0.5184666666666667\n"
          ]
        },
        {
          "output_type": "stream",
          "name": "stderr",
          "text": [
            "Training Progress: 100%|██████████| 900/900 [00:03<00:00, 278.43it/s]\n",
            "Training Progress: 100%|██████████| 900/900 [00:02<00:00, 351.79it/s]\n",
            "Training Progress: 100%|██████████| 900/900 [00:02<00:00, 337.24it/s]\n"
          ]
        },
        {
          "output_type": "stream",
          "name": "stdout",
          "text": [
            "Percent: 35, target_iterations: 6, Score: 0.5143000000000001\n"
          ]
        },
        {
          "output_type": "stream",
          "name": "stderr",
          "text": [
            "Training Progress: 100%|██████████| 900/900 [00:02<00:00, 352.40it/s]\n",
            "Training Progress: 100%|██████████| 900/900 [00:03<00:00, 274.95it/s]\n",
            "Training Progress: 100%|██████████| 900/900 [00:02<00:00, 344.81it/s]\n"
          ]
        },
        {
          "output_type": "stream",
          "name": "stdout",
          "text": [
            "Percent: 40, target_iterations: 6, Score: 0.5306666666666667\n"
          ]
        },
        {
          "output_type": "stream",
          "name": "stderr",
          "text": [
            "Training Progress: 100%|██████████| 900/900 [00:02<00:00, 343.55it/s]\n",
            "Training Progress: 100%|██████████| 900/900 [00:02<00:00, 342.56it/s]\n",
            "Training Progress: 100%|██████████| 900/900 [00:03<00:00, 269.99it/s]\n"
          ]
        },
        {
          "output_type": "stream",
          "name": "stdout",
          "text": [
            "Percent: 45, target_iterations: 6, Score: 0.5224000000000001\n"
          ]
        },
        {
          "output_type": "stream",
          "name": "stderr",
          "text": [
            "Training Progress: 100%|██████████| 900/900 [00:02<00:00, 350.27it/s]\n",
            "Training Progress: 100%|██████████| 900/900 [00:02<00:00, 352.05it/s]\n",
            "Training Progress: 100%|██████████| 900/900 [00:02<00:00, 350.24it/s]\n"
          ]
        },
        {
          "output_type": "stream",
          "name": "stdout",
          "text": [
            "Percent: 50, target_iterations: 6, Score: 0.5123333333333333\n"
          ]
        },
        {
          "output_type": "stream",
          "name": "stderr",
          "text": [
            "Training Progress: 100%|██████████| 900/900 [00:03<00:00, 274.75it/s]\n",
            "Training Progress: 100%|██████████| 900/900 [00:02<00:00, 344.42it/s]\n",
            "Training Progress: 100%|██████████| 900/900 [00:02<00:00, 351.91it/s]\n"
          ]
        },
        {
          "output_type": "stream",
          "name": "stdout",
          "text": [
            "Percent: 55, target_iterations: 6, Score: 0.5148333333333334\n"
          ]
        },
        {
          "output_type": "stream",
          "name": "stderr",
          "text": [
            "Training Progress: 100%|██████████| 900/900 [00:02<00:00, 351.50it/s]\n",
            "Training Progress: 100%|██████████| 900/900 [00:02<00:00, 300.95it/s]\n",
            "Training Progress: 100%|██████████| 900/900 [00:02<00:00, 329.01it/s]\n"
          ]
        },
        {
          "output_type": "stream",
          "name": "stdout",
          "text": [
            "Percent: 60, target_iterations: 6, Score: 0.53\n"
          ]
        },
        {
          "output_type": "stream",
          "name": "stderr",
          "text": [
            "Training Progress: 100%|██████████| 900/900 [00:02<00:00, 347.32it/s]\n",
            "Training Progress: 100%|██████████| 900/900 [00:02<00:00, 349.15it/s]\n",
            "Training Progress: 100%|██████████| 900/900 [00:02<00:00, 311.65it/s]\n"
          ]
        },
        {
          "output_type": "stream",
          "name": "stdout",
          "text": [
            "Percent: 65, target_iterations: 6, Score: 0.5180999999999999\n"
          ]
        },
        {
          "output_type": "stream",
          "name": "stderr",
          "text": [
            "Training Progress: 100%|██████████| 900/900 [00:02<00:00, 320.77it/s]\n",
            "Training Progress: 100%|██████████| 900/900 [00:02<00:00, 344.24it/s]\n",
            "Training Progress: 100%|██████████| 900/900 [00:02<00:00, 343.82it/s]\n"
          ]
        },
        {
          "output_type": "stream",
          "name": "stdout",
          "text": [
            "Percent: 70, target_iterations: 6, Score: 0.5153\n"
          ]
        },
        {
          "output_type": "stream",
          "name": "stderr",
          "text": [
            "Training Progress: 100%|██████████| 900/900 [00:02<00:00, 313.80it/s]\n",
            "Training Progress: 100%|██████████| 900/900 [00:03<00:00, 298.22it/s]\n",
            "Training Progress: 100%|██████████| 900/900 [00:02<00:00, 342.72it/s]\n"
          ]
        },
        {
          "output_type": "stream",
          "name": "stdout",
          "text": [
            "Percent: 75, target_iterations: 6, Score: 0.5042666666666666\n"
          ]
        },
        {
          "output_type": "stream",
          "name": "stderr",
          "text": [
            "Training Progress: 100%|██████████| 900/900 [00:02<00:00, 342.80it/s]\n",
            "Training Progress: 100%|██████████| 900/900 [00:02<00:00, 326.87it/s]\n",
            "Training Progress: 100%|██████████| 900/900 [00:03<00:00, 291.05it/s]\n"
          ]
        },
        {
          "output_type": "stream",
          "name": "stdout",
          "text": [
            "Percent: 80, target_iterations: 6, Score: 0.5137333333333334\n"
          ]
        },
        {
          "output_type": "stream",
          "name": "stderr",
          "text": [
            "Training Progress: 100%|██████████| 900/900 [00:02<00:00, 349.22it/s]\n",
            "Training Progress: 100%|██████████| 900/900 [00:02<00:00, 349.34it/s]\n",
            "Training Progress: 100%|██████████| 900/900 [00:02<00:00, 349.78it/s]\n"
          ]
        },
        {
          "output_type": "stream",
          "name": "stdout",
          "text": [
            "Percent: 85, target_iterations: 6, Score: 0.5305333333333332\n"
          ]
        },
        {
          "output_type": "stream",
          "name": "stderr",
          "text": [
            "Training Progress: 100%|██████████| 900/900 [00:03<00:00, 280.39it/s]\n",
            "Training Progress: 100%|██████████| 900/900 [00:02<00:00, 347.18it/s]\n",
            "Training Progress: 100%|██████████| 900/900 [00:02<00:00, 342.32it/s]\n"
          ]
        },
        {
          "output_type": "stream",
          "name": "stdout",
          "text": [
            "Percent: 90, target_iterations: 6, Score: 0.5334333333333333\n"
          ]
        },
        {
          "output_type": "stream",
          "name": "stderr",
          "text": [
            "Training Progress: 100%|██████████| 900/900 [00:02<00:00, 344.43it/s]\n",
            "Training Progress: 100%|██████████| 900/900 [00:03<00:00, 271.19it/s]\n",
            "Training Progress: 100%|██████████| 900/900 [00:02<00:00, 345.82it/s]\n"
          ]
        },
        {
          "output_type": "stream",
          "name": "stdout",
          "text": [
            "Percent: 95, target_iterations: 6, Score: 0.5226\n"
          ]
        },
        {
          "output_type": "stream",
          "name": "stderr",
          "text": [
            "Training Progress: 100%|██████████| 900/900 [00:02<00:00, 345.20it/s]\n",
            "Training Progress: 100%|██████████| 900/900 [00:02<00:00, 351.74it/s]\n",
            "Training Progress: 100%|██████████| 900/900 [00:03<00:00, 270.31it/s]\n"
          ]
        },
        {
          "output_type": "stream",
          "name": "stdout",
          "text": [
            "Percent: 100, target_iterations: 6, Score: 0.5231666666666667\n"
          ]
        },
        {
          "output_type": "stream",
          "name": "stderr",
          "text": [
            "Training Progress: 100%|██████████| 1050/1050 [00:02<00:00, 352.22it/s]\n",
            "Training Progress: 100%|██████████| 1050/1050 [00:03<00:00, 349.50it/s]\n",
            "Training Progress: 100%|██████████| 1050/1050 [00:03<00:00, 330.25it/s]\n"
          ]
        },
        {
          "output_type": "stream",
          "name": "stdout",
          "text": [
            "Percent: 5, target_iterations: 7, Score: 0.47646666666666676\n"
          ]
        },
        {
          "output_type": "stream",
          "name": "stderr",
          "text": [
            "Training Progress: 100%|██████████| 1050/1050 [00:03<00:00, 298.69it/s]\n",
            "Training Progress: 100%|██████████| 1050/1050 [00:03<00:00, 348.01it/s]\n",
            "Training Progress: 100%|██████████| 1050/1050 [00:02<00:00, 350.26it/s]\n"
          ]
        },
        {
          "output_type": "stream",
          "name": "stdout",
          "text": [
            "Percent: 10, target_iterations: 7, Score: 0.5131666666666667\n"
          ]
        },
        {
          "output_type": "stream",
          "name": "stderr",
          "text": [
            "Training Progress: 100%|██████████| 1050/1050 [00:03<00:00, 301.69it/s]\n",
            "Training Progress: 100%|██████████| 1050/1050 [00:03<00:00, 331.70it/s]\n",
            "Training Progress: 100%|██████████| 1050/1050 [00:03<00:00, 342.03it/s]\n"
          ]
        },
        {
          "output_type": "stream",
          "name": "stdout",
          "text": [
            "Percent: 15, target_iterations: 7, Score: 0.5281333333333333\n"
          ]
        },
        {
          "output_type": "stream",
          "name": "stderr",
          "text": [
            "Training Progress: 100%|██████████| 1050/1050 [00:03<00:00, 348.61it/s]\n",
            "Training Progress: 100%|██████████| 1050/1050 [00:03<00:00, 277.99it/s]\n",
            "Training Progress: 100%|██████████| 1050/1050 [00:03<00:00, 341.26it/s]\n"
          ]
        },
        {
          "output_type": "stream",
          "name": "stdout",
          "text": [
            "Percent: 20, target_iterations: 7, Score: 0.5342666666666667\n"
          ]
        },
        {
          "output_type": "stream",
          "name": "stderr",
          "text": [
            "Training Progress: 100%|██████████| 1050/1050 [00:03<00:00, 338.03it/s]\n",
            "Training Progress: 100%|██████████| 1050/1050 [00:03<00:00, 312.85it/s]\n",
            "Training Progress: 100%|██████████| 1050/1050 [00:03<00:00, 311.80it/s]\n"
          ]
        },
        {
          "output_type": "stream",
          "name": "stdout",
          "text": [
            "Percent: 25, target_iterations: 7, Score: 0.5357\n"
          ]
        },
        {
          "output_type": "stream",
          "name": "stderr",
          "text": [
            "Training Progress: 100%|██████████| 1050/1050 [00:03<00:00, 347.14it/s]\n",
            "Training Progress: 100%|██████████| 1050/1050 [00:03<00:00, 339.89it/s]\n",
            "Training Progress: 100%|██████████| 1050/1050 [00:03<00:00, 269.44it/s]\n"
          ]
        },
        {
          "output_type": "stream",
          "name": "stdout",
          "text": [
            "Percent: 30, target_iterations: 7, Score: 0.5247666666666667\n"
          ]
        },
        {
          "output_type": "stream",
          "name": "stderr",
          "text": [
            "Training Progress: 100%|██████████| 1050/1050 [00:03<00:00, 343.21it/s]\n",
            "Training Progress: 100%|██████████| 1050/1050 [00:03<00:00, 341.71it/s]\n",
            "Training Progress: 100%|██████████| 1050/1050 [00:03<00:00, 331.16it/s]\n"
          ]
        },
        {
          "output_type": "stream",
          "name": "stdout",
          "text": [
            "Percent: 35, target_iterations: 7, Score: 0.537\n"
          ]
        },
        {
          "output_type": "stream",
          "name": "stderr",
          "text": [
            "Training Progress: 100%|██████████| 1050/1050 [00:03<00:00, 298.96it/s]\n",
            "Training Progress: 100%|██████████| 1050/1050 [00:03<00:00, 338.93it/s]\n",
            "Training Progress: 100%|██████████| 1050/1050 [00:03<00:00, 336.58it/s]\n"
          ]
        },
        {
          "output_type": "stream",
          "name": "stdout",
          "text": [
            "Percent: 40, target_iterations: 7, Score: 0.5284\n"
          ]
        },
        {
          "output_type": "stream",
          "name": "stderr",
          "text": [
            "Training Progress: 100%|██████████| 1050/1050 [00:03<00:00, 287.94it/s]\n",
            "Training Progress: 100%|██████████| 1050/1050 [00:03<00:00, 341.04it/s]\n",
            "Training Progress: 100%|██████████| 1050/1050 [00:03<00:00, 346.64it/s]\n"
          ]
        },
        {
          "output_type": "stream",
          "name": "stdout",
          "text": [
            "Percent: 45, target_iterations: 7, Score: 0.5392666666666667\n"
          ]
        },
        {
          "output_type": "stream",
          "name": "stderr",
          "text": [
            "Training Progress: 100%|██████████| 1050/1050 [00:02<00:00, 353.75it/s]\n",
            "Training Progress: 100%|██████████| 1050/1050 [00:03<00:00, 275.88it/s]\n",
            "Training Progress: 100%|██████████| 1050/1050 [00:03<00:00, 335.24it/s]\n"
          ]
        },
        {
          "output_type": "stream",
          "name": "stdout",
          "text": [
            "Percent: 50, target_iterations: 7, Score: 0.5346333333333333\n"
          ]
        },
        {
          "output_type": "stream",
          "name": "stderr",
          "text": [
            "Training Progress: 100%|██████████| 1050/1050 [00:03<00:00, 328.19it/s]\n",
            "Training Progress: 100%|██████████| 1050/1050 [00:03<00:00, 299.07it/s]\n",
            "Training Progress: 100%|██████████| 1050/1050 [00:03<00:00, 326.67it/s]\n"
          ]
        },
        {
          "output_type": "stream",
          "name": "stdout",
          "text": [
            "Percent: 55, target_iterations: 7, Score: 0.5461000000000001\n"
          ]
        },
        {
          "output_type": "stream",
          "name": "stderr",
          "text": [
            "Training Progress: 100%|██████████| 1050/1050 [00:03<00:00, 341.91it/s]\n",
            "Training Progress: 100%|██████████| 1050/1050 [00:02<00:00, 352.29it/s]\n",
            "Training Progress: 100%|██████████| 1050/1050 [00:03<00:00, 272.27it/s]\n"
          ]
        },
        {
          "output_type": "stream",
          "name": "stdout",
          "text": [
            "Percent: 60, target_iterations: 7, Score: 0.5378333333333334\n"
          ]
        },
        {
          "output_type": "stream",
          "name": "stderr",
          "text": [
            "Training Progress: 100%|██████████| 1050/1050 [00:03<00:00, 344.84it/s]\n",
            "Training Progress: 100%|██████████| 1050/1050 [00:03<00:00, 346.00it/s]\n",
            "Training Progress: 100%|██████████| 1050/1050 [00:03<00:00, 321.14it/s]\n"
          ]
        },
        {
          "output_type": "stream",
          "name": "stdout",
          "text": [
            "Percent: 65, target_iterations: 7, Score: 0.5406\n"
          ]
        },
        {
          "output_type": "stream",
          "name": "stderr",
          "text": [
            "Training Progress: 100%|██████████| 1050/1050 [00:03<00:00, 305.91it/s]\n",
            "Training Progress: 100%|██████████| 1050/1050 [00:03<00:00, 343.80it/s]\n",
            "Training Progress: 100%|██████████| 1050/1050 [00:03<00:00, 339.95it/s]\n"
          ]
        },
        {
          "output_type": "stream",
          "name": "stdout",
          "text": [
            "Percent: 70, target_iterations: 7, Score: 0.5299666666666666\n"
          ]
        },
        {
          "output_type": "stream",
          "name": "stderr",
          "text": [
            "Training Progress: 100%|██████████| 1050/1050 [00:03<00:00, 285.03it/s]\n",
            "Training Progress: 100%|██████████| 1050/1050 [00:03<00:00, 348.78it/s]\n",
            "Training Progress: 100%|██████████| 1050/1050 [00:03<00:00, 347.76it/s]\n"
          ]
        },
        {
          "output_type": "stream",
          "name": "stdout",
          "text": [
            "Percent: 75, target_iterations: 7, Score: 0.5475\n"
          ]
        },
        {
          "output_type": "stream",
          "name": "stderr",
          "text": [
            "Training Progress: 100%|██████████| 1050/1050 [00:03<00:00, 330.64it/s]\n",
            "Training Progress: 100%|██████████| 1050/1050 [00:03<00:00, 293.71it/s]\n",
            "Training Progress: 100%|██████████| 1050/1050 [00:03<00:00, 349.24it/s]\n"
          ]
        },
        {
          "output_type": "stream",
          "name": "stdout",
          "text": [
            "Percent: 80, target_iterations: 7, Score: 0.5379666666666667\n"
          ]
        },
        {
          "output_type": "stream",
          "name": "stderr",
          "text": [
            "Training Progress: 100%|██████████| 1050/1050 [00:03<00:00, 347.92it/s]\n",
            "Training Progress: 100%|██████████| 1050/1050 [00:03<00:00, 298.11it/s]\n",
            "Training Progress: 100%|██████████| 1050/1050 [00:03<00:00, 333.31it/s]\n"
          ]
        },
        {
          "output_type": "stream",
          "name": "stdout",
          "text": [
            "Percent: 85, target_iterations: 7, Score: 0.5434\n"
          ]
        },
        {
          "output_type": "stream",
          "name": "stderr",
          "text": [
            "Training Progress: 100%|██████████| 1050/1050 [00:02<00:00, 352.97it/s]\n",
            "Training Progress: 100%|██████████| 1050/1050 [00:03<00:00, 344.99it/s]\n",
            "Training Progress: 100%|██████████| 1050/1050 [00:03<00:00, 277.30it/s]\n"
          ]
        },
        {
          "output_type": "stream",
          "name": "stdout",
          "text": [
            "Percent: 90, target_iterations: 7, Score: 0.5446666666666667\n"
          ]
        },
        {
          "output_type": "stream",
          "name": "stderr",
          "text": [
            "Training Progress: 100%|██████████| 1050/1050 [00:03<00:00, 344.89it/s]\n",
            "Training Progress: 100%|██████████| 1050/1050 [00:03<00:00, 341.90it/s]\n",
            "Training Progress: 100%|██████████| 1050/1050 [00:03<00:00, 308.24it/s]\n"
          ]
        },
        {
          "output_type": "stream",
          "name": "stdout",
          "text": [
            "Percent: 95, target_iterations: 7, Score: 0.5445\n"
          ]
        },
        {
          "output_type": "stream",
          "name": "stderr",
          "text": [
            "Training Progress: 100%|██████████| 1050/1050 [00:03<00:00, 316.02it/s]\n",
            "Training Progress: 100%|██████████| 1050/1050 [00:03<00:00, 345.85it/s]\n",
            "Training Progress: 100%|██████████| 1050/1050 [00:03<00:00, 347.26it/s]\n"
          ]
        },
        {
          "output_type": "stream",
          "name": "stdout",
          "text": [
            "Percent: 100, target_iterations: 7, Score: 0.5377666666666666\n"
          ]
        },
        {
          "output_type": "stream",
          "name": "stderr",
          "text": [
            "Training Progress: 100%|██████████| 1200/1200 [00:04<00:00, 286.59it/s]\n",
            "Training Progress: 100%|██████████| 1200/1200 [00:03<00:00, 347.16it/s]\n",
            "Training Progress: 100%|██████████| 1200/1200 [00:03<00:00, 345.15it/s]\n"
          ]
        },
        {
          "output_type": "stream",
          "name": "stdout",
          "text": [
            "Percent: 5, target_iterations: 8, Score: 0.46776666666666666\n"
          ]
        },
        {
          "output_type": "stream",
          "name": "stderr",
          "text": [
            "Training Progress: 100%|██████████| 1200/1200 [00:04<00:00, 286.85it/s]\n",
            "Training Progress: 100%|██████████| 1200/1200 [00:03<00:00, 344.05it/s]\n",
            "Training Progress: 100%|██████████| 1200/1200 [00:03<00:00, 346.21it/s]\n"
          ]
        },
        {
          "output_type": "stream",
          "name": "stdout",
          "text": [
            "Percent: 10, target_iterations: 8, Score: 0.5212666666666667\n"
          ]
        },
        {
          "output_type": "stream",
          "name": "stderr",
          "text": [
            "Training Progress: 100%|██████████| 1200/1200 [00:03<00:00, 308.00it/s]\n",
            "Training Progress: 100%|██████████| 1200/1200 [00:03<00:00, 328.95it/s]\n",
            "Training Progress: 100%|██████████| 1200/1200 [00:03<00:00, 351.23it/s]\n"
          ]
        },
        {
          "output_type": "stream",
          "name": "stdout",
          "text": [
            "Percent: 15, target_iterations: 8, Score: 0.5301666666666668\n"
          ]
        },
        {
          "output_type": "stream",
          "name": "stderr",
          "text": [
            "Training Progress: 100%|██████████| 1200/1200 [00:03<00:00, 331.03it/s]\n",
            "Training Progress: 100%|██████████| 1200/1200 [00:03<00:00, 300.88it/s]\n",
            "Training Progress: 100%|██████████| 1200/1200 [00:03<00:00, 353.29it/s]\n"
          ]
        },
        {
          "output_type": "stream",
          "name": "stdout",
          "text": [
            "Percent: 20, target_iterations: 8, Score: 0.5430666666666667\n"
          ]
        },
        {
          "output_type": "stream",
          "name": "stderr",
          "text": [
            "Training Progress: 100%|██████████| 1200/1200 [00:03<00:00, 347.66it/s]\n",
            "Training Progress: 100%|██████████| 1200/1200 [00:04<00:00, 283.05it/s]\n",
            "Training Progress: 100%|██████████| 1200/1200 [00:03<00:00, 346.12it/s]\n"
          ]
        },
        {
          "output_type": "stream",
          "name": "stdout",
          "text": [
            "Percent: 25, target_iterations: 8, Score: 0.5624\n"
          ]
        },
        {
          "output_type": "stream",
          "name": "stderr",
          "text": [
            "Training Progress: 100%|██████████| 1200/1200 [00:03<00:00, 342.44it/s]\n",
            "Training Progress: 100%|██████████| 1200/1200 [00:04<00:00, 291.71it/s]\n",
            "Training Progress: 100%|██████████| 1200/1200 [00:03<00:00, 345.95it/s]\n"
          ]
        },
        {
          "output_type": "stream",
          "name": "stdout",
          "text": [
            "Percent: 30, target_iterations: 8, Score: 0.5382\n"
          ]
        },
        {
          "output_type": "stream",
          "name": "stderr",
          "text": [
            "Training Progress: 100%|██████████| 1200/1200 [00:03<00:00, 347.18it/s]\n",
            "Training Progress: 100%|██████████| 1200/1200 [00:03<00:00, 303.69it/s]\n",
            "Training Progress: 100%|██████████| 1200/1200 [00:03<00:00, 344.89it/s]\n"
          ]
        },
        {
          "output_type": "stream",
          "name": "stdout",
          "text": [
            "Percent: 35, target_iterations: 8, Score: 0.5512333333333334\n"
          ]
        },
        {
          "output_type": "stream",
          "name": "stderr",
          "text": [
            "Training Progress: 100%|██████████| 1200/1200 [00:03<00:00, 343.69it/s]\n",
            "Training Progress: 100%|██████████| 1200/1200 [00:03<00:00, 314.09it/s]\n",
            "Training Progress: 100%|██████████| 1200/1200 [00:03<00:00, 318.90it/s]\n"
          ]
        },
        {
          "output_type": "stream",
          "name": "stdout",
          "text": [
            "Percent: 40, target_iterations: 8, Score: 0.5542000000000001\n"
          ]
        },
        {
          "output_type": "stream",
          "name": "stderr",
          "text": [
            "Training Progress: 100%|██████████| 1200/1200 [00:03<00:00, 344.36it/s]\n",
            "Training Progress: 100%|██████████| 1200/1200 [00:03<00:00, 325.05it/s]\n",
            "Training Progress: 100%|██████████| 1200/1200 [00:03<00:00, 301.22it/s]\n"
          ]
        },
        {
          "output_type": "stream",
          "name": "stdout",
          "text": [
            "Percent: 45, target_iterations: 8, Score: 0.5425666666666668\n"
          ]
        },
        {
          "output_type": "stream",
          "name": "stderr",
          "text": [
            "Training Progress: 100%|██████████| 1200/1200 [00:03<00:00, 346.25it/s]\n",
            "Training Progress: 100%|██████████| 1200/1200 [00:03<00:00, 348.32it/s]\n",
            "Training Progress: 100%|██████████| 1200/1200 [00:04<00:00, 287.38it/s]\n"
          ]
        },
        {
          "output_type": "stream",
          "name": "stdout",
          "text": [
            "Percent: 50, target_iterations: 8, Score: 0.5357666666666666\n"
          ]
        },
        {
          "output_type": "stream",
          "name": "stderr",
          "text": [
            "Training Progress: 100%|██████████| 1200/1200 [00:03<00:00, 345.10it/s]\n",
            "Training Progress: 100%|██████████| 1200/1200 [00:03<00:00, 346.88it/s]\n",
            "Training Progress: 100%|██████████| 1200/1200 [00:04<00:00, 282.23it/s]\n"
          ]
        },
        {
          "output_type": "stream",
          "name": "stdout",
          "text": [
            "Percent: 55, target_iterations: 8, Score: 0.5529666666666666\n"
          ]
        },
        {
          "output_type": "stream",
          "name": "stderr",
          "text": [
            "Training Progress: 100%|██████████| 1200/1200 [00:03<00:00, 348.54it/s]\n",
            "Training Progress: 100%|██████████| 1200/1200 [00:03<00:00, 344.32it/s]\n",
            "Training Progress: 100%|██████████| 1200/1200 [00:04<00:00, 293.19it/s]\n"
          ]
        },
        {
          "output_type": "stream",
          "name": "stdout",
          "text": [
            "Percent: 60, target_iterations: 8, Score: 0.5519999999999999\n"
          ]
        },
        {
          "output_type": "stream",
          "name": "stderr",
          "text": [
            "Training Progress: 100%|██████████| 1200/1200 [00:03<00:00, 338.62it/s]\n",
            "Training Progress: 100%|██████████| 1200/1200 [00:03<00:00, 342.50it/s]\n",
            "Training Progress: 100%|██████████| 1200/1200 [00:03<00:00, 317.98it/s]\n"
          ]
        },
        {
          "output_type": "stream",
          "name": "stdout",
          "text": [
            "Percent: 65, target_iterations: 8, Score: 0.5541666666666667\n"
          ]
        },
        {
          "output_type": "stream",
          "name": "stderr",
          "text": [
            "Training Progress: 100%|██████████| 1200/1200 [00:03<00:00, 318.55it/s]\n",
            "Training Progress: 100%|██████████| 1200/1200 [00:03<00:00, 343.30it/s]\n",
            "Training Progress: 100%|██████████| 1200/1200 [00:03<00:00, 333.09it/s]\n"
          ]
        },
        {
          "output_type": "stream",
          "name": "stdout",
          "text": [
            "Percent: 70, target_iterations: 8, Score: 0.5470333333333334\n"
          ]
        },
        {
          "output_type": "stream",
          "name": "stderr",
          "text": [
            "Training Progress: 100%|██████████| 1200/1200 [00:03<00:00, 301.80it/s]\n",
            "Training Progress: 100%|██████████| 1200/1200 [00:03<00:00, 346.42it/s]\n",
            "Training Progress: 100%|██████████| 1200/1200 [00:03<00:00, 341.07it/s]\n"
          ]
        },
        {
          "output_type": "stream",
          "name": "stdout",
          "text": [
            "Percent: 75, target_iterations: 8, Score: 0.5479666666666666\n"
          ]
        },
        {
          "output_type": "stream",
          "name": "stderr",
          "text": [
            "Training Progress: 100%|██████████| 1200/1200 [00:04<00:00, 281.45it/s]\n",
            "Training Progress: 100%|██████████| 1200/1200 [00:03<00:00, 338.19it/s]\n",
            "Training Progress: 100%|██████████| 1200/1200 [00:03<00:00, 342.74it/s]\n"
          ]
        },
        {
          "output_type": "stream",
          "name": "stdout",
          "text": [
            "Percent: 80, target_iterations: 8, Score: 0.5559\n"
          ]
        },
        {
          "output_type": "stream",
          "name": "stderr",
          "text": [
            "Training Progress: 100%|██████████| 1200/1200 [00:04<00:00, 284.51it/s]\n",
            "Training Progress: 100%|██████████| 1200/1200 [00:03<00:00, 344.46it/s]\n",
            "Training Progress: 100%|██████████| 1200/1200 [00:03<00:00, 337.92it/s]\n"
          ]
        },
        {
          "output_type": "stream",
          "name": "stdout",
          "text": [
            "Percent: 85, target_iterations: 8, Score: 0.5397333333333334\n"
          ]
        },
        {
          "output_type": "stream",
          "name": "stderr",
          "text": [
            "Training Progress: 100%|██████████| 1200/1200 [00:04<00:00, 287.36it/s]\n",
            "Training Progress: 100%|██████████| 1200/1200 [00:03<00:00, 340.33it/s]\n",
            "Training Progress: 100%|██████████| 1200/1200 [00:03<00:00, 339.26it/s]\n"
          ]
        },
        {
          "output_type": "stream",
          "name": "stdout",
          "text": [
            "Percent: 90, target_iterations: 8, Score: 0.5417666666666666\n"
          ]
        },
        {
          "output_type": "stream",
          "name": "stderr",
          "text": [
            "Training Progress: 100%|██████████| 1200/1200 [00:03<00:00, 310.73it/s]\n",
            "Training Progress: 100%|██████████| 1200/1200 [00:03<00:00, 327.08it/s]\n",
            "Training Progress: 100%|██████████| 1200/1200 [00:03<00:00, 348.03it/s]\n"
          ]
        },
        {
          "output_type": "stream",
          "name": "stdout",
          "text": [
            "Percent: 95, target_iterations: 8, Score: 0.5556666666666668\n"
          ]
        },
        {
          "output_type": "stream",
          "name": "stderr",
          "text": [
            "Training Progress: 100%|██████████| 1200/1200 [00:03<00:00, 337.36it/s]\n",
            "Training Progress: 100%|██████████| 1200/1200 [00:03<00:00, 307.36it/s]\n",
            "Training Progress: 100%|██████████| 1200/1200 [00:03<00:00, 342.79it/s]\n"
          ]
        },
        {
          "output_type": "stream",
          "name": "stdout",
          "text": [
            "Percent: 100, target_iterations: 8, Score: 0.5397\n"
          ]
        },
        {
          "output_type": "stream",
          "name": "stderr",
          "text": [
            "Training Progress: 100%|██████████| 1350/1350 [00:04<00:00, 332.26it/s]\n",
            "Training Progress: 100%|██████████| 1350/1350 [00:04<00:00, 300.02it/s]\n",
            "Training Progress: 100%|██████████| 1350/1350 [00:03<00:00, 349.37it/s]\n"
          ]
        },
        {
          "output_type": "stream",
          "name": "stdout",
          "text": [
            "Percent: 5, target_iterations: 9, Score: 0.47366666666666674\n"
          ]
        },
        {
          "output_type": "stream",
          "name": "stderr",
          "text": [
            "Training Progress: 100%|██████████| 1350/1350 [00:04<00:00, 319.73it/s]\n",
            "Training Progress: 100%|██████████| 1350/1350 [00:04<00:00, 316.03it/s]\n",
            "Training Progress: 100%|██████████| 1350/1350 [00:03<00:00, 345.92it/s]\n"
          ]
        },
        {
          "output_type": "stream",
          "name": "stdout",
          "text": [
            "Percent: 10, target_iterations: 9, Score: 0.5242\n"
          ]
        },
        {
          "output_type": "stream",
          "name": "stderr",
          "text": [
            "Training Progress: 100%|██████████| 1350/1350 [00:04<00:00, 306.04it/s]\n",
            "Training Progress: 100%|██████████| 1350/1350 [00:04<00:00, 331.21it/s]\n",
            "Training Progress: 100%|██████████| 1350/1350 [00:03<00:00, 341.59it/s]\n"
          ]
        },
        {
          "output_type": "stream",
          "name": "stdout",
          "text": [
            "Percent: 15, target_iterations: 9, Score: 0.5577333333333334\n"
          ]
        },
        {
          "output_type": "stream",
          "name": "stderr",
          "text": [
            "Training Progress: 100%|██████████| 1350/1350 [00:04<00:00, 289.24it/s]\n",
            "Training Progress: 100%|██████████| 1350/1350 [00:03<00:00, 348.17it/s]\n",
            "Training Progress: 100%|██████████| 1350/1350 [00:03<00:00, 343.55it/s]\n"
          ]
        },
        {
          "output_type": "stream",
          "name": "stdout",
          "text": [
            "Percent: 20, target_iterations: 9, Score: 0.5516\n"
          ]
        },
        {
          "output_type": "stream",
          "name": "stderr",
          "text": [
            "Training Progress: 100%|██████████| 1350/1350 [00:04<00:00, 289.46it/s]\n",
            "Training Progress: 100%|██████████| 1350/1350 [00:03<00:00, 344.45it/s]\n",
            "Training Progress: 100%|██████████| 1350/1350 [00:03<00:00, 348.15it/s]\n"
          ]
        },
        {
          "output_type": "stream",
          "name": "stdout",
          "text": [
            "Percent: 25, target_iterations: 9, Score: 0.5619333333333333\n"
          ]
        },
        {
          "output_type": "stream",
          "name": "stderr",
          "text": [
            "Training Progress: 100%|██████████| 1350/1350 [00:04<00:00, 291.35it/s]\n",
            "Training Progress: 100%|██████████| 1350/1350 [00:03<00:00, 349.71it/s]\n",
            "Training Progress: 100%|██████████| 1350/1350 [00:03<00:00, 345.68it/s]\n"
          ]
        },
        {
          "output_type": "stream",
          "name": "stdout",
          "text": [
            "Percent: 30, target_iterations: 9, Score: 0.5621333333333334\n"
          ]
        },
        {
          "output_type": "stream",
          "name": "stderr",
          "text": [
            "Training Progress: 100%|██████████| 1350/1350 [00:04<00:00, 289.44it/s]\n",
            "Training Progress: 100%|██████████| 1350/1350 [00:03<00:00, 344.71it/s]\n",
            "Training Progress: 100%|██████████| 1350/1350 [00:03<00:00, 342.38it/s]\n"
          ]
        },
        {
          "output_type": "stream",
          "name": "stdout",
          "text": [
            "Percent: 35, target_iterations: 9, Score: 0.5585\n"
          ]
        },
        {
          "output_type": "stream",
          "name": "stderr",
          "text": [
            "Training Progress: 100%|██████████| 1350/1350 [00:04<00:00, 297.11it/s]\n",
            "Training Progress: 100%|██████████| 1350/1350 [00:03<00:00, 345.30it/s]\n",
            "Training Progress: 100%|██████████| 1350/1350 [00:04<00:00, 329.60it/s]\n"
          ]
        },
        {
          "output_type": "stream",
          "name": "stdout",
          "text": [
            "Percent: 40, target_iterations: 9, Score: 0.5561666666666666\n"
          ]
        },
        {
          "output_type": "stream",
          "name": "stderr",
          "text": [
            "Training Progress: 100%|██████████| 1350/1350 [00:04<00:00, 298.26it/s]\n",
            "Training Progress: 100%|██████████| 1350/1350 [00:03<00:00, 346.86it/s]\n",
            "Training Progress: 100%|██████████| 1350/1350 [00:04<00:00, 319.77it/s]\n"
          ]
        },
        {
          "output_type": "stream",
          "name": "stdout",
          "text": [
            "Percent: 45, target_iterations: 9, Score: 0.5441\n"
          ]
        },
        {
          "output_type": "stream",
          "name": "stderr",
          "text": [
            "Training Progress: 100%|██████████| 1350/1350 [00:04<00:00, 315.59it/s]\n",
            "Training Progress: 100%|██████████| 1350/1350 [00:03<00:00, 348.41it/s]\n",
            "Training Progress: 100%|██████████| 1350/1350 [00:04<00:00, 316.03it/s]\n"
          ]
        },
        {
          "output_type": "stream",
          "name": "stdout",
          "text": [
            "Percent: 50, target_iterations: 9, Score: 0.5657333333333333\n"
          ]
        },
        {
          "output_type": "stream",
          "name": "stderr",
          "text": [
            "Training Progress: 100%|██████████| 1350/1350 [00:04<00:00, 328.28it/s]\n",
            "Training Progress: 100%|██████████| 1350/1350 [00:03<00:00, 343.81it/s]\n",
            "Training Progress: 100%|██████████| 1350/1350 [00:04<00:00, 297.59it/s]\n"
          ]
        },
        {
          "output_type": "stream",
          "name": "stdout",
          "text": [
            "Percent: 55, target_iterations: 9, Score: 0.5602999999999999\n"
          ]
        },
        {
          "output_type": "stream",
          "name": "stderr",
          "text": [
            "Training Progress: 100%|██████████| 1350/1350 [00:03<00:00, 339.28it/s]\n",
            "Training Progress: 100%|██████████| 1350/1350 [00:03<00:00, 349.22it/s]\n",
            "Training Progress: 100%|██████████| 1350/1350 [00:04<00:00, 287.83it/s]\n"
          ]
        },
        {
          "output_type": "stream",
          "name": "stdout",
          "text": [
            "Percent: 60, target_iterations: 9, Score: 0.5597\n"
          ]
        },
        {
          "output_type": "stream",
          "name": "stderr",
          "text": [
            "Training Progress: 100%|██████████| 1350/1350 [00:03<00:00, 341.93it/s]\n",
            "Training Progress: 100%|██████████| 1350/1350 [00:03<00:00, 343.91it/s]\n",
            "Training Progress: 100%|██████████| 1350/1350 [00:04<00:00, 289.41it/s]\n"
          ]
        },
        {
          "output_type": "stream",
          "name": "stdout",
          "text": [
            "Percent: 65, target_iterations: 9, Score: 0.5695\n"
          ]
        },
        {
          "output_type": "stream",
          "name": "stderr",
          "text": [
            "Training Progress: 100%|██████████| 1350/1350 [00:03<00:00, 340.31it/s]\n",
            "Training Progress: 100%|██████████| 1350/1350 [00:03<00:00, 343.37it/s]\n",
            "Training Progress: 100%|██████████| 1350/1350 [00:04<00:00, 290.21it/s]\n"
          ]
        },
        {
          "output_type": "stream",
          "name": "stdout",
          "text": [
            "Percent: 70, target_iterations: 9, Score: 0.5735666666666667\n"
          ]
        },
        {
          "output_type": "stream",
          "name": "stderr",
          "text": [
            "Training Progress: 100%|██████████| 1350/1350 [00:03<00:00, 339.67it/s]\n",
            "Training Progress: 100%|██████████| 1350/1350 [00:03<00:00, 350.56it/s]\n",
            "Training Progress: 100%|██████████| 1350/1350 [00:04<00:00, 292.72it/s]\n"
          ]
        },
        {
          "output_type": "stream",
          "name": "stdout",
          "text": [
            "Percent: 75, target_iterations: 9, Score: 0.5707333333333333\n"
          ]
        },
        {
          "output_type": "stream",
          "name": "stderr",
          "text": [
            "Training Progress: 100%|██████████| 1350/1350 [00:03<00:00, 346.75it/s]\n",
            "Training Progress: 100%|██████████| 1350/1350 [00:04<00:00, 332.08it/s]\n",
            "Training Progress: 100%|██████████| 1350/1350 [00:04<00:00, 301.42it/s]\n"
          ]
        },
        {
          "output_type": "stream",
          "name": "stdout",
          "text": [
            "Percent: 80, target_iterations: 9, Score: 0.5718333333333332\n"
          ]
        },
        {
          "output_type": "stream",
          "name": "stderr",
          "text": [
            "Training Progress: 100%|██████████| 1350/1350 [00:03<00:00, 338.98it/s]\n",
            "Training Progress: 100%|██████████| 1350/1350 [00:04<00:00, 322.91it/s]\n",
            "Training Progress: 100%|██████████| 1350/1350 [00:04<00:00, 330.26it/s]\n"
          ]
        },
        {
          "output_type": "stream",
          "name": "stdout",
          "text": [
            "Percent: 85, target_iterations: 9, Score: 0.5671333333333334\n"
          ]
        },
        {
          "output_type": "stream",
          "name": "stderr",
          "text": [
            "Training Progress: 100%|██████████| 1350/1350 [00:03<00:00, 347.49it/s]\n",
            "Training Progress: 100%|██████████| 1350/1350 [00:04<00:00, 302.64it/s]\n",
            "Training Progress: 100%|██████████| 1350/1350 [00:03<00:00, 345.50it/s]\n"
          ]
        },
        {
          "output_type": "stream",
          "name": "stdout",
          "text": [
            "Percent: 90, target_iterations: 9, Score: 0.5734666666666667\n"
          ]
        },
        {
          "output_type": "stream",
          "name": "stderr",
          "text": [
            "Training Progress: 100%|██████████| 1350/1350 [00:03<00:00, 343.52it/s]\n",
            "Training Progress: 100%|██████████| 1350/1350 [00:04<00:00, 291.99it/s]\n",
            "Training Progress: 100%|██████████| 1350/1350 [00:03<00:00, 344.46it/s]\n"
          ]
        },
        {
          "output_type": "stream",
          "name": "stdout",
          "text": [
            "Percent: 95, target_iterations: 9, Score: 0.5559666666666666\n"
          ]
        },
        {
          "output_type": "stream",
          "name": "stderr",
          "text": [
            "Training Progress: 100%|██████████| 1350/1350 [00:03<00:00, 342.31it/s]\n",
            "Training Progress: 100%|██████████| 1350/1350 [00:04<00:00, 290.59it/s]\n",
            "Training Progress: 100%|██████████| 1350/1350 [00:04<00:00, 332.02it/s]\n"
          ]
        },
        {
          "output_type": "stream",
          "name": "stdout",
          "text": [
            "Percent: 100, target_iterations: 9, Score: 0.5730333333333333\n"
          ]
        }
      ]
    }
  ]
}